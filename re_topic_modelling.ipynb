{
 "cells": [
  {
   "cell_type": "code",
   "execution_count": 5,
   "metadata": {
    "collapsed": true
   },
   "outputs": [],
   "source": [
    "from transformers import AutoTokenizer, AutoModelForSequenceClassification\n",
    "\n",
    "tokenizer = AutoTokenizer.from_pretrained(\"serdarakyol/interpress-turkish-news-classification\")\n",
    "model = AutoModelForSequenceClassification.from_pretrained(\"serdarakyol/interpress-turkish-news-classification\")"
   ]
  },
  {
   "cell_type": "code",
   "execution_count": 13,
   "outputs": [],
   "source": [
    "import torch\n",
    "from sklearn.metrics import confusion_matrix, classification_report"
   ],
   "metadata": {
    "collapsed": false
   }
  },
  {
   "cell_type": "code",
   "execution_count": 12,
   "outputs": [
    {
     "data": {
      "text/plain": "'macOS-13.2-arm64-arm-64bit'"
     },
     "execution_count": 12,
     "metadata": {},
     "output_type": "execute_result"
    }
   ],
   "source": [
    "import platform\n",
    "platform.platform()"
   ],
   "metadata": {
    "collapsed": false
   }
  },
  {
   "cell_type": "code",
   "execution_count": 14,
   "outputs": [
    {
     "name": "stdout",
     "output_type": "stream",
     "text": [
      "True\n",
      "True\n"
     ]
    }
   ],
   "source": [
    "# this ensures that the current MacOS version is at least 12.3+\n",
    "print(torch.backends.mps.is_available())\n",
    "# this ensures that the current current PyTorch installation was built with MPS activated.\n",
    "print(torch.backends.mps.is_built())"
   ],
   "metadata": {
    "collapsed": false
   }
  },
  {
   "cell_type": "code",
   "execution_count": 15,
   "outputs": [
    {
     "name": "stdout",
     "output_type": "stream",
     "text": [
      "True\n"
     ]
    }
   ],
   "source": [
    "print(torch.has_mps)"
   ],
   "metadata": {
    "collapsed": false
   }
  },
  {
   "cell_type": "code",
   "execution_count": 17,
   "outputs": [
    {
     "data": {
      "text/plain": "BertForSequenceClassification(\n  (bert): BertModel(\n    (embeddings): BertEmbeddings(\n      (word_embeddings): Embedding(32000, 768, padding_idx=0)\n      (position_embeddings): Embedding(512, 768)\n      (token_type_embeddings): Embedding(2, 768)\n      (LayerNorm): LayerNorm((768,), eps=1e-12, elementwise_affine=True)\n      (dropout): Dropout(p=0.1, inplace=False)\n    )\n    (encoder): BertEncoder(\n      (layer): ModuleList(\n        (0): BertLayer(\n          (attention): BertAttention(\n            (self): BertSelfAttention(\n              (query): Linear(in_features=768, out_features=768, bias=True)\n              (key): Linear(in_features=768, out_features=768, bias=True)\n              (value): Linear(in_features=768, out_features=768, bias=True)\n              (dropout): Dropout(p=0.1, inplace=False)\n            )\n            (output): BertSelfOutput(\n              (dense): Linear(in_features=768, out_features=768, bias=True)\n              (LayerNorm): LayerNorm((768,), eps=1e-12, elementwise_affine=True)\n              (dropout): Dropout(p=0.1, inplace=False)\n            )\n          )\n          (intermediate): BertIntermediate(\n            (dense): Linear(in_features=768, out_features=3072, bias=True)\n            (intermediate_act_fn): GELUActivation()\n          )\n          (output): BertOutput(\n            (dense): Linear(in_features=3072, out_features=768, bias=True)\n            (LayerNorm): LayerNorm((768,), eps=1e-12, elementwise_affine=True)\n            (dropout): Dropout(p=0.1, inplace=False)\n          )\n        )\n        (1): BertLayer(\n          (attention): BertAttention(\n            (self): BertSelfAttention(\n              (query): Linear(in_features=768, out_features=768, bias=True)\n              (key): Linear(in_features=768, out_features=768, bias=True)\n              (value): Linear(in_features=768, out_features=768, bias=True)\n              (dropout): Dropout(p=0.1, inplace=False)\n            )\n            (output): BertSelfOutput(\n              (dense): Linear(in_features=768, out_features=768, bias=True)\n              (LayerNorm): LayerNorm((768,), eps=1e-12, elementwise_affine=True)\n              (dropout): Dropout(p=0.1, inplace=False)\n            )\n          )\n          (intermediate): BertIntermediate(\n            (dense): Linear(in_features=768, out_features=3072, bias=True)\n            (intermediate_act_fn): GELUActivation()\n          )\n          (output): BertOutput(\n            (dense): Linear(in_features=3072, out_features=768, bias=True)\n            (LayerNorm): LayerNorm((768,), eps=1e-12, elementwise_affine=True)\n            (dropout): Dropout(p=0.1, inplace=False)\n          )\n        )\n        (2): BertLayer(\n          (attention): BertAttention(\n            (self): BertSelfAttention(\n              (query): Linear(in_features=768, out_features=768, bias=True)\n              (key): Linear(in_features=768, out_features=768, bias=True)\n              (value): Linear(in_features=768, out_features=768, bias=True)\n              (dropout): Dropout(p=0.1, inplace=False)\n            )\n            (output): BertSelfOutput(\n              (dense): Linear(in_features=768, out_features=768, bias=True)\n              (LayerNorm): LayerNorm((768,), eps=1e-12, elementwise_affine=True)\n              (dropout): Dropout(p=0.1, inplace=False)\n            )\n          )\n          (intermediate): BertIntermediate(\n            (dense): Linear(in_features=768, out_features=3072, bias=True)\n            (intermediate_act_fn): GELUActivation()\n          )\n          (output): BertOutput(\n            (dense): Linear(in_features=3072, out_features=768, bias=True)\n            (LayerNorm): LayerNorm((768,), eps=1e-12, elementwise_affine=True)\n            (dropout): Dropout(p=0.1, inplace=False)\n          )\n        )\n        (3): BertLayer(\n          (attention): BertAttention(\n            (self): BertSelfAttention(\n              (query): Linear(in_features=768, out_features=768, bias=True)\n              (key): Linear(in_features=768, out_features=768, bias=True)\n              (value): Linear(in_features=768, out_features=768, bias=True)\n              (dropout): Dropout(p=0.1, inplace=False)\n            )\n            (output): BertSelfOutput(\n              (dense): Linear(in_features=768, out_features=768, bias=True)\n              (LayerNorm): LayerNorm((768,), eps=1e-12, elementwise_affine=True)\n              (dropout): Dropout(p=0.1, inplace=False)\n            )\n          )\n          (intermediate): BertIntermediate(\n            (dense): Linear(in_features=768, out_features=3072, bias=True)\n            (intermediate_act_fn): GELUActivation()\n          )\n          (output): BertOutput(\n            (dense): Linear(in_features=3072, out_features=768, bias=True)\n            (LayerNorm): LayerNorm((768,), eps=1e-12, elementwise_affine=True)\n            (dropout): Dropout(p=0.1, inplace=False)\n          )\n        )\n        (4): BertLayer(\n          (attention): BertAttention(\n            (self): BertSelfAttention(\n              (query): Linear(in_features=768, out_features=768, bias=True)\n              (key): Linear(in_features=768, out_features=768, bias=True)\n              (value): Linear(in_features=768, out_features=768, bias=True)\n              (dropout): Dropout(p=0.1, inplace=False)\n            )\n            (output): BertSelfOutput(\n              (dense): Linear(in_features=768, out_features=768, bias=True)\n              (LayerNorm): LayerNorm((768,), eps=1e-12, elementwise_affine=True)\n              (dropout): Dropout(p=0.1, inplace=False)\n            )\n          )\n          (intermediate): BertIntermediate(\n            (dense): Linear(in_features=768, out_features=3072, bias=True)\n            (intermediate_act_fn): GELUActivation()\n          )\n          (output): BertOutput(\n            (dense): Linear(in_features=3072, out_features=768, bias=True)\n            (LayerNorm): LayerNorm((768,), eps=1e-12, elementwise_affine=True)\n            (dropout): Dropout(p=0.1, inplace=False)\n          )\n        )\n        (5): BertLayer(\n          (attention): BertAttention(\n            (self): BertSelfAttention(\n              (query): Linear(in_features=768, out_features=768, bias=True)\n              (key): Linear(in_features=768, out_features=768, bias=True)\n              (value): Linear(in_features=768, out_features=768, bias=True)\n              (dropout): Dropout(p=0.1, inplace=False)\n            )\n            (output): BertSelfOutput(\n              (dense): Linear(in_features=768, out_features=768, bias=True)\n              (LayerNorm): LayerNorm((768,), eps=1e-12, elementwise_affine=True)\n              (dropout): Dropout(p=0.1, inplace=False)\n            )\n          )\n          (intermediate): BertIntermediate(\n            (dense): Linear(in_features=768, out_features=3072, bias=True)\n            (intermediate_act_fn): GELUActivation()\n          )\n          (output): BertOutput(\n            (dense): Linear(in_features=3072, out_features=768, bias=True)\n            (LayerNorm): LayerNorm((768,), eps=1e-12, elementwise_affine=True)\n            (dropout): Dropout(p=0.1, inplace=False)\n          )\n        )\n        (6): BertLayer(\n          (attention): BertAttention(\n            (self): BertSelfAttention(\n              (query): Linear(in_features=768, out_features=768, bias=True)\n              (key): Linear(in_features=768, out_features=768, bias=True)\n              (value): Linear(in_features=768, out_features=768, bias=True)\n              (dropout): Dropout(p=0.1, inplace=False)\n            )\n            (output): BertSelfOutput(\n              (dense): Linear(in_features=768, out_features=768, bias=True)\n              (LayerNorm): LayerNorm((768,), eps=1e-12, elementwise_affine=True)\n              (dropout): Dropout(p=0.1, inplace=False)\n            )\n          )\n          (intermediate): BertIntermediate(\n            (dense): Linear(in_features=768, out_features=3072, bias=True)\n            (intermediate_act_fn): GELUActivation()\n          )\n          (output): BertOutput(\n            (dense): Linear(in_features=3072, out_features=768, bias=True)\n            (LayerNorm): LayerNorm((768,), eps=1e-12, elementwise_affine=True)\n            (dropout): Dropout(p=0.1, inplace=False)\n          )\n        )\n        (7): BertLayer(\n          (attention): BertAttention(\n            (self): BertSelfAttention(\n              (query): Linear(in_features=768, out_features=768, bias=True)\n              (key): Linear(in_features=768, out_features=768, bias=True)\n              (value): Linear(in_features=768, out_features=768, bias=True)\n              (dropout): Dropout(p=0.1, inplace=False)\n            )\n            (output): BertSelfOutput(\n              (dense): Linear(in_features=768, out_features=768, bias=True)\n              (LayerNorm): LayerNorm((768,), eps=1e-12, elementwise_affine=True)\n              (dropout): Dropout(p=0.1, inplace=False)\n            )\n          )\n          (intermediate): BertIntermediate(\n            (dense): Linear(in_features=768, out_features=3072, bias=True)\n            (intermediate_act_fn): GELUActivation()\n          )\n          (output): BertOutput(\n            (dense): Linear(in_features=3072, out_features=768, bias=True)\n            (LayerNorm): LayerNorm((768,), eps=1e-12, elementwise_affine=True)\n            (dropout): Dropout(p=0.1, inplace=False)\n          )\n        )\n        (8): BertLayer(\n          (attention): BertAttention(\n            (self): BertSelfAttention(\n              (query): Linear(in_features=768, out_features=768, bias=True)\n              (key): Linear(in_features=768, out_features=768, bias=True)\n              (value): Linear(in_features=768, out_features=768, bias=True)\n              (dropout): Dropout(p=0.1, inplace=False)\n            )\n            (output): BertSelfOutput(\n              (dense): Linear(in_features=768, out_features=768, bias=True)\n              (LayerNorm): LayerNorm((768,), eps=1e-12, elementwise_affine=True)\n              (dropout): Dropout(p=0.1, inplace=False)\n            )\n          )\n          (intermediate): BertIntermediate(\n            (dense): Linear(in_features=768, out_features=3072, bias=True)\n            (intermediate_act_fn): GELUActivation()\n          )\n          (output): BertOutput(\n            (dense): Linear(in_features=3072, out_features=768, bias=True)\n            (LayerNorm): LayerNorm((768,), eps=1e-12, elementwise_affine=True)\n            (dropout): Dropout(p=0.1, inplace=False)\n          )\n        )\n        (9): BertLayer(\n          (attention): BertAttention(\n            (self): BertSelfAttention(\n              (query): Linear(in_features=768, out_features=768, bias=True)\n              (key): Linear(in_features=768, out_features=768, bias=True)\n              (value): Linear(in_features=768, out_features=768, bias=True)\n              (dropout): Dropout(p=0.1, inplace=False)\n            )\n            (output): BertSelfOutput(\n              (dense): Linear(in_features=768, out_features=768, bias=True)\n              (LayerNorm): LayerNorm((768,), eps=1e-12, elementwise_affine=True)\n              (dropout): Dropout(p=0.1, inplace=False)\n            )\n          )\n          (intermediate): BertIntermediate(\n            (dense): Linear(in_features=768, out_features=3072, bias=True)\n            (intermediate_act_fn): GELUActivation()\n          )\n          (output): BertOutput(\n            (dense): Linear(in_features=3072, out_features=768, bias=True)\n            (LayerNorm): LayerNorm((768,), eps=1e-12, elementwise_affine=True)\n            (dropout): Dropout(p=0.1, inplace=False)\n          )\n        )\n        (10): BertLayer(\n          (attention): BertAttention(\n            (self): BertSelfAttention(\n              (query): Linear(in_features=768, out_features=768, bias=True)\n              (key): Linear(in_features=768, out_features=768, bias=True)\n              (value): Linear(in_features=768, out_features=768, bias=True)\n              (dropout): Dropout(p=0.1, inplace=False)\n            )\n            (output): BertSelfOutput(\n              (dense): Linear(in_features=768, out_features=768, bias=True)\n              (LayerNorm): LayerNorm((768,), eps=1e-12, elementwise_affine=True)\n              (dropout): Dropout(p=0.1, inplace=False)\n            )\n          )\n          (intermediate): BertIntermediate(\n            (dense): Linear(in_features=768, out_features=3072, bias=True)\n            (intermediate_act_fn): GELUActivation()\n          )\n          (output): BertOutput(\n            (dense): Linear(in_features=3072, out_features=768, bias=True)\n            (LayerNorm): LayerNorm((768,), eps=1e-12, elementwise_affine=True)\n            (dropout): Dropout(p=0.1, inplace=False)\n          )\n        )\n        (11): BertLayer(\n          (attention): BertAttention(\n            (self): BertSelfAttention(\n              (query): Linear(in_features=768, out_features=768, bias=True)\n              (key): Linear(in_features=768, out_features=768, bias=True)\n              (value): Linear(in_features=768, out_features=768, bias=True)\n              (dropout): Dropout(p=0.1, inplace=False)\n            )\n            (output): BertSelfOutput(\n              (dense): Linear(in_features=768, out_features=768, bias=True)\n              (LayerNorm): LayerNorm((768,), eps=1e-12, elementwise_affine=True)\n              (dropout): Dropout(p=0.1, inplace=False)\n            )\n          )\n          (intermediate): BertIntermediate(\n            (dense): Linear(in_features=768, out_features=3072, bias=True)\n            (intermediate_act_fn): GELUActivation()\n          )\n          (output): BertOutput(\n            (dense): Linear(in_features=3072, out_features=768, bias=True)\n            (LayerNorm): LayerNorm((768,), eps=1e-12, elementwise_affine=True)\n            (dropout): Dropout(p=0.1, inplace=False)\n          )\n        )\n      )\n    )\n    (pooler): BertPooler(\n      (dense): Linear(in_features=768, out_features=768, bias=True)\n      (activation): Tanh()\n    )\n  )\n  (dropout): Dropout(p=0.1, inplace=False)\n  (classifier): Linear(in_features=768, out_features=10, bias=True)\n)"
     },
     "execution_count": 17,
     "metadata": {},
     "output_type": "execute_result"
    }
   ],
   "source": [
    "device = torch.device(\"mps\")\n",
    "model.to(device)"
   ],
   "metadata": {
    "collapsed": false
   }
  },
  {
   "cell_type": "code",
   "execution_count": 21,
   "outputs": [],
   "source": [
    "import numpy as np\n",
    "\n",
    "def prediction(news):\n",
    "    news=[news]\n",
    "    indices=tokenizer.batch_encode_plus(\n",
    "    news,\n",
    "    max_length=512,\n",
    "    add_special_tokens=True,\n",
    "    return_attention_mask=True,\n",
    "    padding='max_length',\n",
    "    truncation=True,\n",
    "    return_tensors='pt')\n",
    "    indices.to(device)\n",
    "    inputs = indices[\"input_ids\"].clone().detach().to(device)\n",
    "    masks = indices[\"attention_mask\"].clone().detach().to(device)\n",
    "\n",
    "    with torch.no_grad():\n",
    "        output = model(inputs, token_type_ids=None,attention_mask=masks)\n",
    "\n",
    "    logits = output[0]\n",
    "    logits = logits.detach().cpu().numpy()\n",
    "    pred = np.argmax(logits,axis=1)[0]\n",
    "    return pred"
   ],
   "metadata": {
    "collapsed": false
   }
  },
  {
   "cell_type": "code",
   "execution_count": 22,
   "outputs": [],
   "source": [
    "news = r\"ABD'den Prens Selman'a yaptırım yok Beyaz Saray Sözcüsü Psaki, Muhammed bin Selman'a yaptırım uygulamamanın \\\"doğru karar\\\" olduğunu savundu. Psaki, \\\"Tarihimizde, Demokrat ve Cumhuriyetçi başkanların yönetimlerinde diplomatik ilişki içinde olduğumuz ülkelerin liderlerine yönelik yaptırım getirilmemiştir\\\" dedi.\"\n"
   ],
   "metadata": {
    "collapsed": false
   }
  },
  {
   "cell_type": "code",
   "execution_count": 23,
   "outputs": [
    {
     "name": "stdout",
     "output_type": "stream",
     "text": [
      "World\n"
     ]
    }
   ],
   "source": [
    "labels = {\n",
    "    0 : \"Culture-Art\",\n",
    "    1 : \"Economy\",\n",
    "    2 : \"Politics\",\n",
    "    3 : \"Education\",\n",
    "    4 : \"World\",\n",
    "    5 : \"Sport\",\n",
    "    6 : \"Technology\",\n",
    "    7 : \"Magazine\",\n",
    "    8 : \"Health\",\n",
    "    9 : \"Agenda\"\n",
    "}\n",
    "pred = prediction(news)\n",
    "print(labels[pred])\n",
    "# > World\n"
   ],
   "metadata": {
    "collapsed": false
   }
  },
  {
   "cell_type": "code",
   "execution_count": 24,
   "outputs": [],
   "source": [
    "import pandas as pd\n",
    "import numpy as np"
   ],
   "metadata": {
    "collapsed": false
   }
  },
  {
   "cell_type": "code",
   "execution_count": 39,
   "outputs": [
    {
     "name": "stderr",
     "output_type": "stream",
     "text": [
      "/Users/tariktalay/Desktop/Thesis/venv/lib/python3.9/site-packages/openpyxl/worksheet/_reader.py:329: UserWarning: Data Validation extension is not supported and will be removed\n",
      "  warn(msg)\n"
     ]
    },
    {
     "data": {
      "text/plain": "                                                  title   subject\n0     Mert Yuvak(27) Sevgililer Günü Öncesi Kritik V...  Magazine\n1     Isparta'yı -5 Derecede 48 Saat Elektriksiz Bır...   Economy\n2     Rapor: Mühendislik Eğitimi Artı MBA Artı Özel ...   Economy\n3     Normal Takvimle Girdiği 2022'den de Umudu Kese...  Magazine\n4     Son 3 Yılda 6 Kez Başkan Değiştiren TÜİK'te İh...  Politics\n...                                                 ...       ...\n3166  Takımdan Ayrı Düz Koşu Yapan Futbolcu Ortadan ...     Sport\n3167  Kameraya \"5 İşareti\" Yapan Taraftarlar Stada A...     Sport\n3168  Hentbol Federasyonu'ndan Sert Çıkış: \"Utanılac...     Sport\n3169  Deplasman Röportaj Yönetmeliğine Uymayan Futbo...     Sport\n3170          Federasyondan Yılmaz Vural'a Anlamlı Jest     Sport\n\n[3171 rows x 2 columns]",
      "text/html": "<div>\n<style scoped>\n    .dataframe tbody tr th:only-of-type {\n        vertical-align: middle;\n    }\n\n    .dataframe tbody tr th {\n        vertical-align: top;\n    }\n\n    .dataframe thead th {\n        text-align: right;\n    }\n</style>\n<table border=\"1\" class=\"dataframe\">\n  <thead>\n    <tr style=\"text-align: right;\">\n      <th></th>\n      <th>title</th>\n      <th>subject</th>\n    </tr>\n  </thead>\n  <tbody>\n    <tr>\n      <th>0</th>\n      <td>Mert Yuvak(27) Sevgililer Günü Öncesi Kritik V...</td>\n      <td>Magazine</td>\n    </tr>\n    <tr>\n      <th>1</th>\n      <td>Isparta'yı -5 Derecede 48 Saat Elektriksiz Bır...</td>\n      <td>Economy</td>\n    </tr>\n    <tr>\n      <th>2</th>\n      <td>Rapor: Mühendislik Eğitimi Artı MBA Artı Özel ...</td>\n      <td>Economy</td>\n    </tr>\n    <tr>\n      <th>3</th>\n      <td>Normal Takvimle Girdiği 2022'den de Umudu Kese...</td>\n      <td>Magazine</td>\n    </tr>\n    <tr>\n      <th>4</th>\n      <td>Son 3 Yılda 6 Kez Başkan Değiştiren TÜİK'te İh...</td>\n      <td>Politics</td>\n    </tr>\n    <tr>\n      <th>...</th>\n      <td>...</td>\n      <td>...</td>\n    </tr>\n    <tr>\n      <th>3166</th>\n      <td>Takımdan Ayrı Düz Koşu Yapan Futbolcu Ortadan ...</td>\n      <td>Sport</td>\n    </tr>\n    <tr>\n      <th>3167</th>\n      <td>Kameraya \"5 İşareti\" Yapan Taraftarlar Stada A...</td>\n      <td>Sport</td>\n    </tr>\n    <tr>\n      <th>3168</th>\n      <td>Hentbol Federasyonu'ndan Sert Çıkış: \"Utanılac...</td>\n      <td>Sport</td>\n    </tr>\n    <tr>\n      <th>3169</th>\n      <td>Deplasman Röportaj Yönetmeliğine Uymayan Futbo...</td>\n      <td>Sport</td>\n    </tr>\n    <tr>\n      <th>3170</th>\n      <td>Federasyondan Yılmaz Vural'a Anlamlı Jest</td>\n      <td>Sport</td>\n    </tr>\n  </tbody>\n</table>\n<p>3171 rows × 2 columns</p>\n</div>"
     },
     "execution_count": 39,
     "metadata": {},
     "output_type": "execute_result"
    }
   ],
   "source": [
    "df = pd.read_excel('Ironic Data/topic_real_values_serdarakyol.xlsx')\n",
    "df"
   ],
   "metadata": {
    "collapsed": false
   }
  },
  {
   "cell_type": "code",
   "execution_count": 40,
   "outputs": [
    {
     "data": {
      "text/plain": "subject\nEconomy       651\nEducation     194\nHealth        182\nMagazine      356\nPolitics      867\nSport         261\nTechnology    299\nWorld         361\nName: subject, dtype: int64"
     },
     "execution_count": 40,
     "metadata": {},
     "output_type": "execute_result"
    }
   ],
   "source": [
    "df.groupby([\"subject\"])[\"subject\"].count()"
   ],
   "metadata": {
    "collapsed": false
   }
  },
  {
   "cell_type": "code",
   "execution_count": 41,
   "outputs": [],
   "source": [
    "df['subject'] = df['subject'].str.lower()"
   ],
   "metadata": {
    "collapsed": false
   }
  },
  {
   "cell_type": "code",
   "execution_count": 42,
   "outputs": [
    {
     "data": {
      "text/plain": "                                                  title   subject\n1     Isparta'yı -5 Derecede 48 Saat Elektriksiz Bır...   economy\n2     Rapor: Mühendislik Eğitimi Artı MBA Artı Özel ...   economy\n4     Son 3 Yılda 6 Kez Başkan Değiştiren TÜİK'te İh...  politics\n5     Ekonomide Düşündüren Tablo: 1 Haftadır Evde Ya...   economy\n6     ''Teknik sorunlar'' Nedeniyle Türkiye'ye Doğal...   economy\n...                                                 ...       ...\n3166  Takımdan Ayrı Düz Koşu Yapan Futbolcu Ortadan ...     sport\n3167  Kameraya \"5 İşareti\" Yapan Taraftarlar Stada A...     sport\n3168  Hentbol Federasyonu'ndan Sert Çıkış: \"Utanılac...     sport\n3169  Deplasman Röportaj Yönetmeliğine Uymayan Futbo...     sport\n3170          Federasyondan Yılmaz Vural'a Anlamlı Jest     sport\n\n[2815 rows x 2 columns]",
      "text/html": "<div>\n<style scoped>\n    .dataframe tbody tr th:only-of-type {\n        vertical-align: middle;\n    }\n\n    .dataframe tbody tr th {\n        vertical-align: top;\n    }\n\n    .dataframe thead th {\n        text-align: right;\n    }\n</style>\n<table border=\"1\" class=\"dataframe\">\n  <thead>\n    <tr style=\"text-align: right;\">\n      <th></th>\n      <th>title</th>\n      <th>subject</th>\n    </tr>\n  </thead>\n  <tbody>\n    <tr>\n      <th>1</th>\n      <td>Isparta'yı -5 Derecede 48 Saat Elektriksiz Bır...</td>\n      <td>economy</td>\n    </tr>\n    <tr>\n      <th>2</th>\n      <td>Rapor: Mühendislik Eğitimi Artı MBA Artı Özel ...</td>\n      <td>economy</td>\n    </tr>\n    <tr>\n      <th>4</th>\n      <td>Son 3 Yılda 6 Kez Başkan Değiştiren TÜİK'te İh...</td>\n      <td>politics</td>\n    </tr>\n    <tr>\n      <th>5</th>\n      <td>Ekonomide Düşündüren Tablo: 1 Haftadır Evde Ya...</td>\n      <td>economy</td>\n    </tr>\n    <tr>\n      <th>6</th>\n      <td>''Teknik sorunlar'' Nedeniyle Türkiye'ye Doğal...</td>\n      <td>economy</td>\n    </tr>\n    <tr>\n      <th>...</th>\n      <td>...</td>\n      <td>...</td>\n    </tr>\n    <tr>\n      <th>3166</th>\n      <td>Takımdan Ayrı Düz Koşu Yapan Futbolcu Ortadan ...</td>\n      <td>sport</td>\n    </tr>\n    <tr>\n      <th>3167</th>\n      <td>Kameraya \"5 İşareti\" Yapan Taraftarlar Stada A...</td>\n      <td>sport</td>\n    </tr>\n    <tr>\n      <th>3168</th>\n      <td>Hentbol Federasyonu'ndan Sert Çıkış: \"Utanılac...</td>\n      <td>sport</td>\n    </tr>\n    <tr>\n      <th>3169</th>\n      <td>Deplasman Röportaj Yönetmeliğine Uymayan Futbo...</td>\n      <td>sport</td>\n    </tr>\n    <tr>\n      <th>3170</th>\n      <td>Federasyondan Yılmaz Vural'a Anlamlı Jest</td>\n      <td>sport</td>\n    </tr>\n  </tbody>\n</table>\n<p>2815 rows × 2 columns</p>\n</div>"
     },
     "execution_count": 42,
     "metadata": {},
     "output_type": "execute_result"
    }
   ],
   "source": [
    "df.drop(df[df['subject']=='magazine'].index, inplace=True)\n",
    "df"
   ],
   "metadata": {
    "collapsed": false
   }
  },
  {
   "cell_type": "code",
   "execution_count": 43,
   "outputs": [
    {
     "data": {
      "text/plain": "subject\neconomy       651\neducation     194\nhealth        182\npolitics      867\nsport         261\ntechnology    299\nworld         361\nName: subject, dtype: int64"
     },
     "execution_count": 43,
     "metadata": {},
     "output_type": "execute_result"
    }
   ],
   "source": [
    "df.groupby([\"subject\"])[\"subject\"].count()"
   ],
   "metadata": {
    "collapsed": false
   }
  },
  {
   "cell_type": "code",
   "execution_count": 44,
   "outputs": [],
   "source": [
    "df[\"pred_subject\"] = df.apply(lambda x: labels[prediction(x.title)], axis=1)"
   ],
   "metadata": {
    "collapsed": false
   }
  },
  {
   "cell_type": "code",
   "execution_count": 45,
   "outputs": [
    {
     "data": {
      "text/plain": "                                                  title   subject pred_subject\n1     Isparta'yı -5 Derecede 48 Saat Elektriksiz Bır...   economy      Economy\n2     Rapor: Mühendislik Eğitimi Artı MBA Artı Özel ...   economy      Economy\n4     Son 3 Yılda 6 Kez Başkan Değiştiren TÜİK'te İh...  politics      Economy\n5     Ekonomide Düşündüren Tablo: 1 Haftadır Evde Ya...   economy      Economy\n6     ''Teknik sorunlar'' Nedeniyle Türkiye'ye Doğal...   economy      Economy\n...                                                 ...       ...          ...\n3166  Takımdan Ayrı Düz Koşu Yapan Futbolcu Ortadan ...     sport        Sport\n3167  Kameraya \"5 İşareti\" Yapan Taraftarlar Stada A...     sport        Sport\n3168  Hentbol Federasyonu'ndan Sert Çıkış: \"Utanılac...     sport        Sport\n3169  Deplasman Röportaj Yönetmeliğine Uymayan Futbo...     sport        Sport\n3170          Federasyondan Yılmaz Vural'a Anlamlı Jest     sport        Sport\n\n[2815 rows x 3 columns]",
      "text/html": "<div>\n<style scoped>\n    .dataframe tbody tr th:only-of-type {\n        vertical-align: middle;\n    }\n\n    .dataframe tbody tr th {\n        vertical-align: top;\n    }\n\n    .dataframe thead th {\n        text-align: right;\n    }\n</style>\n<table border=\"1\" class=\"dataframe\">\n  <thead>\n    <tr style=\"text-align: right;\">\n      <th></th>\n      <th>title</th>\n      <th>subject</th>\n      <th>pred_subject</th>\n    </tr>\n  </thead>\n  <tbody>\n    <tr>\n      <th>1</th>\n      <td>Isparta'yı -5 Derecede 48 Saat Elektriksiz Bır...</td>\n      <td>economy</td>\n      <td>Economy</td>\n    </tr>\n    <tr>\n      <th>2</th>\n      <td>Rapor: Mühendislik Eğitimi Artı MBA Artı Özel ...</td>\n      <td>economy</td>\n      <td>Economy</td>\n    </tr>\n    <tr>\n      <th>4</th>\n      <td>Son 3 Yılda 6 Kez Başkan Değiştiren TÜİK'te İh...</td>\n      <td>politics</td>\n      <td>Economy</td>\n    </tr>\n    <tr>\n      <th>5</th>\n      <td>Ekonomide Düşündüren Tablo: 1 Haftadır Evde Ya...</td>\n      <td>economy</td>\n      <td>Economy</td>\n    </tr>\n    <tr>\n      <th>6</th>\n      <td>''Teknik sorunlar'' Nedeniyle Türkiye'ye Doğal...</td>\n      <td>economy</td>\n      <td>Economy</td>\n    </tr>\n    <tr>\n      <th>...</th>\n      <td>...</td>\n      <td>...</td>\n      <td>...</td>\n    </tr>\n    <tr>\n      <th>3166</th>\n      <td>Takımdan Ayrı Düz Koşu Yapan Futbolcu Ortadan ...</td>\n      <td>sport</td>\n      <td>Sport</td>\n    </tr>\n    <tr>\n      <th>3167</th>\n      <td>Kameraya \"5 İşareti\" Yapan Taraftarlar Stada A...</td>\n      <td>sport</td>\n      <td>Sport</td>\n    </tr>\n    <tr>\n      <th>3168</th>\n      <td>Hentbol Federasyonu'ndan Sert Çıkış: \"Utanılac...</td>\n      <td>sport</td>\n      <td>Sport</td>\n    </tr>\n    <tr>\n      <th>3169</th>\n      <td>Deplasman Röportaj Yönetmeliğine Uymayan Futbo...</td>\n      <td>sport</td>\n      <td>Sport</td>\n    </tr>\n    <tr>\n      <th>3170</th>\n      <td>Federasyondan Yılmaz Vural'a Anlamlı Jest</td>\n      <td>sport</td>\n      <td>Sport</td>\n    </tr>\n  </tbody>\n</table>\n<p>2815 rows × 3 columns</p>\n</div>"
     },
     "execution_count": 45,
     "metadata": {},
     "output_type": "execute_result"
    }
   ],
   "source": [
    "df"
   ],
   "metadata": {
    "collapsed": false
   }
  },
  {
   "cell_type": "code",
   "execution_count": 46,
   "outputs": [
    {
     "data": {
      "text/plain": "pred_subject\nEconomy       591\nEducation     177\nHealth        213\nMagazine        9\nPolitics      689\nSport         375\nTechnology    391\nWorld         370\nName: pred_subject, dtype: int64"
     },
     "execution_count": 46,
     "metadata": {},
     "output_type": "execute_result"
    }
   ],
   "source": [
    "df.groupby([\"pred_subject\"])[\"pred_subject\"].count()"
   ],
   "metadata": {
    "collapsed": false
   }
  },
  {
   "cell_type": "code",
   "execution_count": 47,
   "outputs": [
    {
     "data": {
      "text/plain": "                                                  title   subject pred_subject\n1     Isparta'yı -5 Derecede 48 Saat Elektriksiz Bır...   economy      Economy\n2     Rapor: Mühendislik Eğitimi Artı MBA Artı Özel ...   economy      Economy\n4     Son 3 Yılda 6 Kez Başkan Değiştiren TÜİK'te İh...  politics      Economy\n5     Ekonomide Düşündüren Tablo: 1 Haftadır Evde Ya...   economy      Economy\n6     ''Teknik sorunlar'' Nedeniyle Türkiye'ye Doğal...   economy      Economy\n...                                                 ...       ...          ...\n3166  Takımdan Ayrı Düz Koşu Yapan Futbolcu Ortadan ...     sport        Sport\n3167  Kameraya \"5 İşareti\" Yapan Taraftarlar Stada A...     sport        Sport\n3168  Hentbol Federasyonu'ndan Sert Çıkış: \"Utanılac...     sport        Sport\n3169  Deplasman Röportaj Yönetmeliğine Uymayan Futbo...     sport        Sport\n3170          Federasyondan Yılmaz Vural'a Anlamlı Jest     sport        Sport\n\n[2815 rows x 3 columns]",
      "text/html": "<div>\n<style scoped>\n    .dataframe tbody tr th:only-of-type {\n        vertical-align: middle;\n    }\n\n    .dataframe tbody tr th {\n        vertical-align: top;\n    }\n\n    .dataframe thead th {\n        text-align: right;\n    }\n</style>\n<table border=\"1\" class=\"dataframe\">\n  <thead>\n    <tr style=\"text-align: right;\">\n      <th></th>\n      <th>title</th>\n      <th>subject</th>\n      <th>pred_subject</th>\n    </tr>\n  </thead>\n  <tbody>\n    <tr>\n      <th>1</th>\n      <td>Isparta'yı -5 Derecede 48 Saat Elektriksiz Bır...</td>\n      <td>economy</td>\n      <td>Economy</td>\n    </tr>\n    <tr>\n      <th>2</th>\n      <td>Rapor: Mühendislik Eğitimi Artı MBA Artı Özel ...</td>\n      <td>economy</td>\n      <td>Economy</td>\n    </tr>\n    <tr>\n      <th>4</th>\n      <td>Son 3 Yılda 6 Kez Başkan Değiştiren TÜİK'te İh...</td>\n      <td>politics</td>\n      <td>Economy</td>\n    </tr>\n    <tr>\n      <th>5</th>\n      <td>Ekonomide Düşündüren Tablo: 1 Haftadır Evde Ya...</td>\n      <td>economy</td>\n      <td>Economy</td>\n    </tr>\n    <tr>\n      <th>6</th>\n      <td>''Teknik sorunlar'' Nedeniyle Türkiye'ye Doğal...</td>\n      <td>economy</td>\n      <td>Economy</td>\n    </tr>\n    <tr>\n      <th>...</th>\n      <td>...</td>\n      <td>...</td>\n      <td>...</td>\n    </tr>\n    <tr>\n      <th>3166</th>\n      <td>Takımdan Ayrı Düz Koşu Yapan Futbolcu Ortadan ...</td>\n      <td>sport</td>\n      <td>Sport</td>\n    </tr>\n    <tr>\n      <th>3167</th>\n      <td>Kameraya \"5 İşareti\" Yapan Taraftarlar Stada A...</td>\n      <td>sport</td>\n      <td>Sport</td>\n    </tr>\n    <tr>\n      <th>3168</th>\n      <td>Hentbol Federasyonu'ndan Sert Çıkış: \"Utanılac...</td>\n      <td>sport</td>\n      <td>Sport</td>\n    </tr>\n    <tr>\n      <th>3169</th>\n      <td>Deplasman Röportaj Yönetmeliğine Uymayan Futbo...</td>\n      <td>sport</td>\n      <td>Sport</td>\n    </tr>\n    <tr>\n      <th>3170</th>\n      <td>Federasyondan Yılmaz Vural'a Anlamlı Jest</td>\n      <td>sport</td>\n      <td>Sport</td>\n    </tr>\n  </tbody>\n</table>\n<p>2815 rows × 3 columns</p>\n</div>"
     },
     "execution_count": 47,
     "metadata": {},
     "output_type": "execute_result"
    }
   ],
   "source": [
    "df.drop(df[df['pred_subject']=='magazine'].index, inplace=True)\n",
    "df"
   ],
   "metadata": {
    "collapsed": false
   }
  },
  {
   "cell_type": "code",
   "execution_count": 48,
   "outputs": [],
   "source": [
    "df['pred_subject'] = df['pred_subject'].str.lower()"
   ],
   "metadata": {
    "collapsed": false
   }
  },
  {
   "cell_type": "code",
   "execution_count": 49,
   "outputs": [
    {
     "data": {
      "text/plain": "                                                  title   subject pred_subject\n1     Isparta'yı -5 Derecede 48 Saat Elektriksiz Bır...   economy      economy\n2     Rapor: Mühendislik Eğitimi Artı MBA Artı Özel ...   economy      economy\n4     Son 3 Yılda 6 Kez Başkan Değiştiren TÜİK'te İh...  politics      economy\n5     Ekonomide Düşündüren Tablo: 1 Haftadır Evde Ya...   economy      economy\n6     ''Teknik sorunlar'' Nedeniyle Türkiye'ye Doğal...   economy      economy\n...                                                 ...       ...          ...\n3166  Takımdan Ayrı Düz Koşu Yapan Futbolcu Ortadan ...     sport        sport\n3167  Kameraya \"5 İşareti\" Yapan Taraftarlar Stada A...     sport        sport\n3168  Hentbol Federasyonu'ndan Sert Çıkış: \"Utanılac...     sport        sport\n3169  Deplasman Röportaj Yönetmeliğine Uymayan Futbo...     sport        sport\n3170          Federasyondan Yılmaz Vural'a Anlamlı Jest     sport        sport\n\n[2815 rows x 3 columns]",
      "text/html": "<div>\n<style scoped>\n    .dataframe tbody tr th:only-of-type {\n        vertical-align: middle;\n    }\n\n    .dataframe tbody tr th {\n        vertical-align: top;\n    }\n\n    .dataframe thead th {\n        text-align: right;\n    }\n</style>\n<table border=\"1\" class=\"dataframe\">\n  <thead>\n    <tr style=\"text-align: right;\">\n      <th></th>\n      <th>title</th>\n      <th>subject</th>\n      <th>pred_subject</th>\n    </tr>\n  </thead>\n  <tbody>\n    <tr>\n      <th>1</th>\n      <td>Isparta'yı -5 Derecede 48 Saat Elektriksiz Bır...</td>\n      <td>economy</td>\n      <td>economy</td>\n    </tr>\n    <tr>\n      <th>2</th>\n      <td>Rapor: Mühendislik Eğitimi Artı MBA Artı Özel ...</td>\n      <td>economy</td>\n      <td>economy</td>\n    </tr>\n    <tr>\n      <th>4</th>\n      <td>Son 3 Yılda 6 Kez Başkan Değiştiren TÜİK'te İh...</td>\n      <td>politics</td>\n      <td>economy</td>\n    </tr>\n    <tr>\n      <th>5</th>\n      <td>Ekonomide Düşündüren Tablo: 1 Haftadır Evde Ya...</td>\n      <td>economy</td>\n      <td>economy</td>\n    </tr>\n    <tr>\n      <th>6</th>\n      <td>''Teknik sorunlar'' Nedeniyle Türkiye'ye Doğal...</td>\n      <td>economy</td>\n      <td>economy</td>\n    </tr>\n    <tr>\n      <th>...</th>\n      <td>...</td>\n      <td>...</td>\n      <td>...</td>\n    </tr>\n    <tr>\n      <th>3166</th>\n      <td>Takımdan Ayrı Düz Koşu Yapan Futbolcu Ortadan ...</td>\n      <td>sport</td>\n      <td>sport</td>\n    </tr>\n    <tr>\n      <th>3167</th>\n      <td>Kameraya \"5 İşareti\" Yapan Taraftarlar Stada A...</td>\n      <td>sport</td>\n      <td>sport</td>\n    </tr>\n    <tr>\n      <th>3168</th>\n      <td>Hentbol Federasyonu'ndan Sert Çıkış: \"Utanılac...</td>\n      <td>sport</td>\n      <td>sport</td>\n    </tr>\n    <tr>\n      <th>3169</th>\n      <td>Deplasman Röportaj Yönetmeliğine Uymayan Futbo...</td>\n      <td>sport</td>\n      <td>sport</td>\n    </tr>\n    <tr>\n      <th>3170</th>\n      <td>Federasyondan Yılmaz Vural'a Anlamlı Jest</td>\n      <td>sport</td>\n      <td>sport</td>\n    </tr>\n  </tbody>\n</table>\n<p>2815 rows × 3 columns</p>\n</div>"
     },
     "execution_count": 49,
     "metadata": {},
     "output_type": "execute_result"
    }
   ],
   "source": [
    "df"
   ],
   "metadata": {
    "collapsed": false
   }
  },
  {
   "cell_type": "code",
   "execution_count": 50,
   "outputs": [
    {
     "name": "stdout",
     "output_type": "stream",
     "text": [
      "              precision    recall  f1-score   support\n",
      "\n",
      "     economy       0.90      0.82      0.86       651\n",
      "   education       0.89      0.81      0.85       194\n",
      "      health       0.69      0.81      0.74       182\n",
      "    magazine       0.00      0.00      0.00         0\n",
      "    politics       0.96      0.76      0.85       867\n",
      "       sport       0.69      1.00      0.82       261\n",
      "  technology       0.73      0.96      0.83       299\n",
      "       world       0.91      0.93      0.92       361\n",
      "\n",
      "    accuracy                           0.84      2815\n",
      "   macro avg       0.72      0.76      0.73      2815\n",
      "weighted avg       0.87      0.84      0.85      2815\n",
      "\n"
     ]
    },
    {
     "name": "stderr",
     "output_type": "stream",
     "text": [
      "/Users/tariktalay/Desktop/Thesis/venv/lib/python3.9/site-packages/sklearn/metrics/_classification.py:1344: UndefinedMetricWarning: Recall and F-score are ill-defined and being set to 0.0 in labels with no true samples. Use `zero_division` parameter to control this behavior.\n",
      "  _warn_prf(average, modifier, msg_start, len(result))\n",
      "/Users/tariktalay/Desktop/Thesis/venv/lib/python3.9/site-packages/sklearn/metrics/_classification.py:1344: UndefinedMetricWarning: Recall and F-score are ill-defined and being set to 0.0 in labels with no true samples. Use `zero_division` parameter to control this behavior.\n",
      "  _warn_prf(average, modifier, msg_start, len(result))\n",
      "/Users/tariktalay/Desktop/Thesis/venv/lib/python3.9/site-packages/sklearn/metrics/_classification.py:1344: UndefinedMetricWarning: Recall and F-score are ill-defined and being set to 0.0 in labels with no true samples. Use `zero_division` parameter to control this behavior.\n",
      "  _warn_prf(average, modifier, msg_start, len(result))\n"
     ]
    }
   ],
   "source": [
    "print(classification_report(y_pred=df.pred_subject,y_true=df.subject))"
   ],
   "metadata": {
    "collapsed": false
   }
  },
  {
   "cell_type": "markdown",
   "source": [
    "## Topic Modelling with pre-processing"
   ],
   "metadata": {
    "collapsed": false
   }
  },
  {
   "cell_type": "code",
   "execution_count": 29,
   "outputs": [],
   "source": [
    "import nltk\n",
    "import re"
   ],
   "metadata": {
    "collapsed": false
   }
  },
  {
   "cell_type": "code",
   "execution_count": 30,
   "outputs": [
    {
     "data": {
      "text/plain": "'bırakan'"
     },
     "execution_count": 30,
     "metadata": {},
     "output_type": "execute_result"
    }
   ],
   "source": [
    "from TurkishStemmer import TurkishStemmer\n",
    "stemmer = TurkishStemmer()\n",
    "stemmer.stem(\"bırakanlar\")"
   ],
   "metadata": {
    "collapsed": false
   }
  },
  {
   "cell_type": "code",
   "execution_count": 31,
   "outputs": [],
   "source": [
    "stopwordSet = set(nltk.corpus.stopwords.words('turkish'))"
   ],
   "metadata": {
    "collapsed": false
   }
  },
  {
   "cell_type": "code",
   "execution_count": 34,
   "outputs": [],
   "source": [
    "def leadMyWord(text):\n",
    "    text = re.sub('[^a-zA-ZğĞüÜşŞıİöÖçÇ]',\" \",text)\n",
    "    text = re.sub(r'\\s+', ' ', text)\n",
    "    text = text.lower()\n",
    "    text = nltk.word_tokenize(text,language='turkish')\n",
    "    text = [word for word in text if not word in stopwordSet]\n",
    "    #text = [stemmer.stem(i) for i in text]\n",
    "    text = \" \".join(text)\n",
    "    return text"
   ],
   "metadata": {
    "collapsed": false
   }
  },
  {
   "cell_type": "code",
   "execution_count": 35,
   "outputs": [
    {
     "data": {
      "text/plain": "'mert yuvak sevgi gün önce kri viraj hedi mi al japon kirp balık nın dişi kur yapma dans öğren'"
     },
     "execution_count": 35,
     "metadata": {},
     "output_type": "execute_result"
    }
   ],
   "source": [
    "smp_text = leadMyWord(\"Mert Yuvak(27) Sevgililer Günü Öncesi Kritik Virajda: Hediye mi Alsam Japon Kirpi Balığı’nın Dişisine Kur Yapma Dansını mı Öğrensem?\")\n",
    "smp_text"
   ],
   "metadata": {
    "collapsed": false
   }
  },
  {
   "cell_type": "code",
   "execution_count": 37,
   "outputs": [
    {
     "data": {
      "text/plain": "                                                  title   subject  \\\n1     Isparta'yı -5 Derecede 48 Saat Elektriksiz Bır...   economy   \n2     Rapor: Mühendislik Eğitimi Artı MBA Artı Özel ...   economy   \n4     Son 3 Yılda 6 Kez Başkan Değiştiren TÜİK'te İh...  politics   \n5     Ekonomide Düşündüren Tablo: 1 Haftadır Evde Ya...   economy   \n6     ''Teknik sorunlar'' Nedeniyle Türkiye'ye Doğal...   economy   \n...                                                 ...       ...   \n3166  Takımdan Ayrı Düz Koşu Yapan Futbolcu Ortadan ...     sport   \n3167  Kameraya \"5 İşareti\" Yapan Taraftarlar Stada A...     sport   \n3168  Hentbol Federasyonu'ndan Sert Çıkış: \"Utanılac...     sport   \n3169  Deplasman Röportaj Yönetmeliğine Uymayan Futbo...     sport   \n3170          Federasyondan Yılmaz Vural'a Anlamlı Jest     sport   \n\n     pred_subject                                   title_preprocess  \n1         economy  ispar yı derece saat elektriks bırakan akde el...  \n2         economy  rapor mühendislik eğit art mba art özel sektör...  \n4         economy  son yıl başkan değiştiren tüi̇k te i̇hale sist...  \n5         economy  ekonomi düşündüren tablo haf ev ya oksijen i̇s...  \n6         economy  teknik sor neden türki ye doğalgaz satış durdu...  \n...           ...                                                ...  \n3166        sport        takım ayr düz koş yapan futbolç orta kaybol  \n3167        sport     kamera i̇şareti yapan taraftar sta alınmayacak  \n3168        sport  hentbol federasyon ndan sert çıkış utanılacak ...  \n3169        sport  deplasman röportaj yönetmelik uymayan futbolcu...  \n3170        sport               federasyon yılmaz vural a anlam jest  \n\n[2806 rows x 4 columns]",
      "text/html": "<div>\n<style scoped>\n    .dataframe tbody tr th:only-of-type {\n        vertical-align: middle;\n    }\n\n    .dataframe tbody tr th {\n        vertical-align: top;\n    }\n\n    .dataframe thead th {\n        text-align: right;\n    }\n</style>\n<table border=\"1\" class=\"dataframe\">\n  <thead>\n    <tr style=\"text-align: right;\">\n      <th></th>\n      <th>title</th>\n      <th>subject</th>\n      <th>pred_subject</th>\n      <th>title_preprocess</th>\n    </tr>\n  </thead>\n  <tbody>\n    <tr>\n      <th>1</th>\n      <td>Isparta'yı -5 Derecede 48 Saat Elektriksiz Bır...</td>\n      <td>economy</td>\n      <td>economy</td>\n      <td>ispar yı derece saat elektriks bırakan akde el...</td>\n    </tr>\n    <tr>\n      <th>2</th>\n      <td>Rapor: Mühendislik Eğitimi Artı MBA Artı Özel ...</td>\n      <td>economy</td>\n      <td>economy</td>\n      <td>rapor mühendislik eğit art mba art özel sektör...</td>\n    </tr>\n    <tr>\n      <th>4</th>\n      <td>Son 3 Yılda 6 Kez Başkan Değiştiren TÜİK'te İh...</td>\n      <td>politics</td>\n      <td>economy</td>\n      <td>son yıl başkan değiştiren tüi̇k te i̇hale sist...</td>\n    </tr>\n    <tr>\n      <th>5</th>\n      <td>Ekonomide Düşündüren Tablo: 1 Haftadır Evde Ya...</td>\n      <td>economy</td>\n      <td>economy</td>\n      <td>ekonomi düşündüren tablo haf ev ya oksijen i̇s...</td>\n    </tr>\n    <tr>\n      <th>6</th>\n      <td>''Teknik sorunlar'' Nedeniyle Türkiye'ye Doğal...</td>\n      <td>economy</td>\n      <td>economy</td>\n      <td>teknik sor neden türki ye doğalgaz satış durdu...</td>\n    </tr>\n    <tr>\n      <th>...</th>\n      <td>...</td>\n      <td>...</td>\n      <td>...</td>\n      <td>...</td>\n    </tr>\n    <tr>\n      <th>3166</th>\n      <td>Takımdan Ayrı Düz Koşu Yapan Futbolcu Ortadan ...</td>\n      <td>sport</td>\n      <td>sport</td>\n      <td>takım ayr düz koş yapan futbolç orta kaybol</td>\n    </tr>\n    <tr>\n      <th>3167</th>\n      <td>Kameraya \"5 İşareti\" Yapan Taraftarlar Stada A...</td>\n      <td>sport</td>\n      <td>sport</td>\n      <td>kamera i̇şareti yapan taraftar sta alınmayacak</td>\n    </tr>\n    <tr>\n      <th>3168</th>\n      <td>Hentbol Federasyonu'ndan Sert Çıkış: \"Utanılac...</td>\n      <td>sport</td>\n      <td>sport</td>\n      <td>hentbol federasyon ndan sert çıkış utanılacak ...</td>\n    </tr>\n    <tr>\n      <th>3169</th>\n      <td>Deplasman Röportaj Yönetmeliğine Uymayan Futbo...</td>\n      <td>sport</td>\n      <td>sport</td>\n      <td>deplasman röportaj yönetmelik uymayan futbolcu...</td>\n    </tr>\n    <tr>\n      <th>3170</th>\n      <td>Federasyondan Yılmaz Vural'a Anlamlı Jest</td>\n      <td>sport</td>\n      <td>sport</td>\n      <td>federasyon yılmaz vural a anlam jest</td>\n    </tr>\n  </tbody>\n</table>\n<p>2806 rows × 4 columns</p>\n</div>"
     },
     "execution_count": 37,
     "metadata": {},
     "output_type": "execute_result"
    }
   ],
   "source": [
    "df[\"title_preprocess\"] = df.apply(lambda x: leadMyWord(x.title),axis=1)\n",
    "df"
   ],
   "metadata": {
    "collapsed": false
   }
  },
  {
   "cell_type": "code",
   "execution_count": 38,
   "outputs": [],
   "source": [
    "df[\"pred-process\"] = df.apply(lambda x: labels[prediction(x.title_preprocess)], axis=1)"
   ],
   "metadata": {
    "collapsed": false
   }
  },
  {
   "cell_type": "code",
   "execution_count": 41,
   "outputs": [
    {
     "data": {
      "text/plain": "pred-process\nCulture-Art    1880\nEconomy          23\nEducation         2\nHealth            4\nMagazine        777\nPolitics         50\nSport            45\nTechnology       17\nWorld             8\nName: pred-process, dtype: int64"
     },
     "execution_count": 41,
     "metadata": {},
     "output_type": "execute_result"
    }
   ],
   "source": [
    "df.groupby([\"pred-process\"])[\"pred-process\"].count()"
   ],
   "metadata": {
    "collapsed": false
   }
  },
  {
   "cell_type": "code",
   "execution_count": 46,
   "outputs": [],
   "source": [
    "def leadMyWord(text):\n",
    "    text = re.sub('[^a-zA-ZğĞüÜşŞıİöÖçÇ]',\" \",text)\n",
    "    text = re.sub(r'\\s+', ' ', text)\n",
    "    text = text.lower()\n",
    "    text = nltk.word_tokenize(text,language='turkish')\n",
    "    text = [word for word in text if not word in stopwordSet]\n",
    "    #text = [stemmer.stem(i) for i in text]\n",
    "    text = \" \".join(text)\n",
    "    return text"
   ],
   "metadata": {
    "collapsed": false
   }
  },
  {
   "cell_type": "code",
   "execution_count": 47,
   "outputs": [
    {
     "data": {
      "text/plain": "'mert yuvak sevgililer günü öncesi kritik virajda hediye mi alsam japon kirpi balığı nın dişisine kur yapma dansını öğrensem'"
     },
     "execution_count": 47,
     "metadata": {},
     "output_type": "execute_result"
    }
   ],
   "source": [
    "smp_text = leadMyWord(\"Mert Yuvak(27) Sevgililer Günü Öncesi Kritik Virajda: Hediye mi Alsam Japon Kirpi Balığı’nın Dişisine Kur Yapma Dansını mı Öğrensem?\")\n",
    "smp_text"
   ],
   "metadata": {
    "collapsed": false
   }
  },
  {
   "cell_type": "code",
   "execution_count": 48,
   "outputs": [
    {
     "data": {
      "text/plain": "                                                  title   subject  \\\n1     Isparta'yı -5 Derecede 48 Saat Elektriksiz Bır...   economy   \n2     Rapor: Mühendislik Eğitimi Artı MBA Artı Özel ...   economy   \n4     Son 3 Yılda 6 Kez Başkan Değiştiren TÜİK'te İh...  politics   \n5     Ekonomide Düşündüren Tablo: 1 Haftadır Evde Ya...   economy   \n6     ''Teknik sorunlar'' Nedeniyle Türkiye'ye Doğal...   economy   \n...                                                 ...       ...   \n3166  Takımdan Ayrı Düz Koşu Yapan Futbolcu Ortadan ...     sport   \n3167  Kameraya \"5 İşareti\" Yapan Taraftarlar Stada A...     sport   \n3168  Hentbol Federasyonu'ndan Sert Çıkış: \"Utanılac...     sport   \n3169  Deplasman Röportaj Yönetmeliğine Uymayan Futbo...     sport   \n3170          Federasyondan Yılmaz Vural'a Anlamlı Jest     sport   \n\n     pred_subject                                   title_preprocess  \\\n1         economy  ispar yı derece saat elektriks bırakan akde el...   \n2         economy  rapor mühendislik eğit art mba art özel sektör...   \n4         economy  son yıl başkan değiştiren tüi̇k te i̇hale sist...   \n5         economy  ekonomi düşündüren tablo haf ev ya oksijen i̇s...   \n6         economy  teknik sor neden türki ye doğalgaz satış durdu...   \n...           ...                                                ...   \n3166        sport        takım ayr düz koş yapan futbolç orta kaybol   \n3167        sport     kamera i̇şareti yapan taraftar sta alınmayacak   \n3168        sport  hentbol federasyon ndan sert çıkış utanılacak ...   \n3169        sport  deplasman röportaj yönetmelik uymayan futbolcu...   \n3170        sport               federasyon yılmaz vural a anlam jest   \n\n     pred-process                                  title_preprocess2  \n1     Culture-Art  isparta yı derecede saat elektriksiz bırakan a...  \n2     Culture-Art  rapor mühendislik eğitimi artı mba artı özel s...  \n4     Culture-Art  son yılda başkan değiştiren tüi̇k te i̇hale si...  \n5     Culture-Art  ekonomide düşündüren tablo haftadır evde yatan...  \n6        Magazine  teknik sorunlar nedeniyle türkiye ye doğalgaz ...  \n...           ...                                                ...  \n3166  Culture-Art  takımdan ayrı düz koşu yapan futbolcu ortadan ...  \n3167        Sport  kameraya i̇şareti yapan taraftarlar stada alın...  \n3168        Sport  hentbol federasyonu ndan sert çıkış utanılacak...  \n3169        Sport  deplasman röportaj yönetmeliğine uymayan futbo...  \n3170     Magazine          federasyondan yılmaz vural a anlamlı jest  \n\n[2806 rows x 6 columns]",
      "text/html": "<div>\n<style scoped>\n    .dataframe tbody tr th:only-of-type {\n        vertical-align: middle;\n    }\n\n    .dataframe tbody tr th {\n        vertical-align: top;\n    }\n\n    .dataframe thead th {\n        text-align: right;\n    }\n</style>\n<table border=\"1\" class=\"dataframe\">\n  <thead>\n    <tr style=\"text-align: right;\">\n      <th></th>\n      <th>title</th>\n      <th>subject</th>\n      <th>pred_subject</th>\n      <th>title_preprocess</th>\n      <th>pred-process</th>\n      <th>title_preprocess2</th>\n    </tr>\n  </thead>\n  <tbody>\n    <tr>\n      <th>1</th>\n      <td>Isparta'yı -5 Derecede 48 Saat Elektriksiz Bır...</td>\n      <td>economy</td>\n      <td>economy</td>\n      <td>ispar yı derece saat elektriks bırakan akde el...</td>\n      <td>Culture-Art</td>\n      <td>isparta yı derecede saat elektriksiz bırakan a...</td>\n    </tr>\n    <tr>\n      <th>2</th>\n      <td>Rapor: Mühendislik Eğitimi Artı MBA Artı Özel ...</td>\n      <td>economy</td>\n      <td>economy</td>\n      <td>rapor mühendislik eğit art mba art özel sektör...</td>\n      <td>Culture-Art</td>\n      <td>rapor mühendislik eğitimi artı mba artı özel s...</td>\n    </tr>\n    <tr>\n      <th>4</th>\n      <td>Son 3 Yılda 6 Kez Başkan Değiştiren TÜİK'te İh...</td>\n      <td>politics</td>\n      <td>economy</td>\n      <td>son yıl başkan değiştiren tüi̇k te i̇hale sist...</td>\n      <td>Culture-Art</td>\n      <td>son yılda başkan değiştiren tüi̇k te i̇hale si...</td>\n    </tr>\n    <tr>\n      <th>5</th>\n      <td>Ekonomide Düşündüren Tablo: 1 Haftadır Evde Ya...</td>\n      <td>economy</td>\n      <td>economy</td>\n      <td>ekonomi düşündüren tablo haf ev ya oksijen i̇s...</td>\n      <td>Culture-Art</td>\n      <td>ekonomide düşündüren tablo haftadır evde yatan...</td>\n    </tr>\n    <tr>\n      <th>6</th>\n      <td>''Teknik sorunlar'' Nedeniyle Türkiye'ye Doğal...</td>\n      <td>economy</td>\n      <td>economy</td>\n      <td>teknik sor neden türki ye doğalgaz satış durdu...</td>\n      <td>Magazine</td>\n      <td>teknik sorunlar nedeniyle türkiye ye doğalgaz ...</td>\n    </tr>\n    <tr>\n      <th>...</th>\n      <td>...</td>\n      <td>...</td>\n      <td>...</td>\n      <td>...</td>\n      <td>...</td>\n      <td>...</td>\n    </tr>\n    <tr>\n      <th>3166</th>\n      <td>Takımdan Ayrı Düz Koşu Yapan Futbolcu Ortadan ...</td>\n      <td>sport</td>\n      <td>sport</td>\n      <td>takım ayr düz koş yapan futbolç orta kaybol</td>\n      <td>Culture-Art</td>\n      <td>takımdan ayrı düz koşu yapan futbolcu ortadan ...</td>\n    </tr>\n    <tr>\n      <th>3167</th>\n      <td>Kameraya \"5 İşareti\" Yapan Taraftarlar Stada A...</td>\n      <td>sport</td>\n      <td>sport</td>\n      <td>kamera i̇şareti yapan taraftar sta alınmayacak</td>\n      <td>Sport</td>\n      <td>kameraya i̇şareti yapan taraftarlar stada alın...</td>\n    </tr>\n    <tr>\n      <th>3168</th>\n      <td>Hentbol Federasyonu'ndan Sert Çıkış: \"Utanılac...</td>\n      <td>sport</td>\n      <td>sport</td>\n      <td>hentbol federasyon ndan sert çıkış utanılacak ...</td>\n      <td>Sport</td>\n      <td>hentbol federasyonu ndan sert çıkış utanılacak...</td>\n    </tr>\n    <tr>\n      <th>3169</th>\n      <td>Deplasman Röportaj Yönetmeliğine Uymayan Futbo...</td>\n      <td>sport</td>\n      <td>sport</td>\n      <td>deplasman röportaj yönetmelik uymayan futbolcu...</td>\n      <td>Sport</td>\n      <td>deplasman röportaj yönetmeliğine uymayan futbo...</td>\n    </tr>\n    <tr>\n      <th>3170</th>\n      <td>Federasyondan Yılmaz Vural'a Anlamlı Jest</td>\n      <td>sport</td>\n      <td>sport</td>\n      <td>federasyon yılmaz vural a anlam jest</td>\n      <td>Magazine</td>\n      <td>federasyondan yılmaz vural a anlamlı jest</td>\n    </tr>\n  </tbody>\n</table>\n<p>2806 rows × 6 columns</p>\n</div>"
     },
     "execution_count": 48,
     "metadata": {},
     "output_type": "execute_result"
    }
   ],
   "source": [
    "df[\"title_preprocess2\"] = df.apply(lambda x: leadMyWord(x.title),axis=1)\n",
    "df"
   ],
   "metadata": {
    "collapsed": false
   }
  },
  {
   "cell_type": "code",
   "execution_count": 49,
   "outputs": [],
   "source": [
    "df[\"pred-process2\"] = df.apply(lambda x: labels[prediction(x.title_preprocess2)], axis=1)"
   ],
   "metadata": {
    "collapsed": false
   }
  },
  {
   "cell_type": "code",
   "execution_count": 50,
   "outputs": [
    {
     "data": {
      "text/plain": "pred-process2\nCulture-Art    2155\nEconomy          31\nEducation         3\nHealth            4\nMagazine        487\nPolitics         41\nSport            54\nTechnology       22\nWorld             9\nName: pred-process2, dtype: int64"
     },
     "execution_count": 50,
     "metadata": {},
     "output_type": "execute_result"
    }
   ],
   "source": [
    "df.groupby([\"pred-process2\"])[\"pred-process2\"].count()"
   ],
   "metadata": {
    "collapsed": false
   }
  },
  {
   "cell_type": "code",
   "execution_count": 60,
   "outputs": [
    {
     "data": {
      "text/plain": "                                                  title subject pred_subject  \\\n18    Bulgaristan İçişleri Bakanlığı, +90 Ülke Kodlu...   world        world   \n67    20 Yıl Süren Kanlı Çatışmaların Ardından Afgan...   world        world   \n68    Taliban Yeni Koronavirüs Tedbirlerini Açıkladı...   world        world   \n71    Yunanistan'a Yardım İçin 2 Adet Yangın Söndürm...   world        world   \n72    Efsanelerde Adı Geçen Dingo'nun Ahırı'nın Türk...   world        world   \n...                                                 ...     ...          ...   \n2915          İngiliz Kraliyet Ailesi'ni Sarsan Gelişme   world        world   \n2916  İsrail'e Diplomatik Misilleme Girişimi Boy Eng...   world        world   \n2940  Töre Cinayetleri Brezilya'yı Sarsmaya Devam Ed...   world        world   \n2950            Ermeni Diasporası'ndan Tarihi Geri Adım   world        world   \n2966  STV Dizisinden İbret Alarak Müslüman Olan Genç...   world        world   \n\n                                       title_preprocess pred-process  \\\n18    bulgaristan i̇çişleri bakanlık ülk kot numara ...  Culture-Art   \n67    yıl süren kanl çatışma art afganistan yönet el...  Culture-Art   \n68    taliban yen koronavirüs tedbir açık kadın dışa...     Magazine   \n71    yunanistan a yardım i̇çin adet yang söndür uça...  Culture-Art   \n72    efsane ad geçen dingo nun ahır nın türki sınır...  Culture-Art   \n...                                                 ...          ...   \n2915                i̇ngiliz kraliyet aile ni sar geliş  Culture-Art   \n2916  i̇srail e diplomatik misille giriş boy engel t...  Culture-Art   \n2940        tör cinayet brezilya yı sarsma devam ediyor     Magazine   \n2950                   ermen diaspora ndan tarih ger ad      Economy   \n2966  stv dizi i̇bret alarak müslüman olan genç i̇sl...     Magazine   \n\n                                      title_preprocess2 pred-process2  \n18    bulgaristan i̇çişleri bakanlığı ülke kodlu num...   Culture-Art  \n67    yıl süren kanlı çatışmaların ardından afganist...   Culture-Art  \n68    taliban yeni koronavirüs tedbirlerini açıkladı...   Culture-Art  \n71    yunanistan a yardım i̇çin adet yangın söndürme...   Culture-Art  \n72    efsanelerde adı geçen dingo nun ahırı nın türk...   Culture-Art  \n...                                                 ...           ...  \n2915         i̇ngiliz kraliyet ailesi ni sarsan gelişme   Culture-Art  \n2916  i̇srail e diplomatik misilleme girişimi boy en...   Culture-Art  \n2940  töre cinayetleri brezilya yı sarsmaya devam ed...   Culture-Art  \n2950            ermeni diasporası ndan tarihi geri adım   Culture-Art  \n2966  stv dizisinden i̇bret alarak müslüman olan gen...   Culture-Art  \n\n[361 rows x 7 columns]",
      "text/html": "<div>\n<style scoped>\n    .dataframe tbody tr th:only-of-type {\n        vertical-align: middle;\n    }\n\n    .dataframe tbody tr th {\n        vertical-align: top;\n    }\n\n    .dataframe thead th {\n        text-align: right;\n    }\n</style>\n<table border=\"1\" class=\"dataframe\">\n  <thead>\n    <tr style=\"text-align: right;\">\n      <th></th>\n      <th>title</th>\n      <th>subject</th>\n      <th>pred_subject</th>\n      <th>title_preprocess</th>\n      <th>pred-process</th>\n      <th>title_preprocess2</th>\n      <th>pred-process2</th>\n    </tr>\n  </thead>\n  <tbody>\n    <tr>\n      <th>18</th>\n      <td>Bulgaristan İçişleri Bakanlığı, +90 Ülke Kodlu...</td>\n      <td>world</td>\n      <td>world</td>\n      <td>bulgaristan i̇çişleri bakanlık ülk kot numara ...</td>\n      <td>Culture-Art</td>\n      <td>bulgaristan i̇çişleri bakanlığı ülke kodlu num...</td>\n      <td>Culture-Art</td>\n    </tr>\n    <tr>\n      <th>67</th>\n      <td>20 Yıl Süren Kanlı Çatışmaların Ardından Afgan...</td>\n      <td>world</td>\n      <td>world</td>\n      <td>yıl süren kanl çatışma art afganistan yönet el...</td>\n      <td>Culture-Art</td>\n      <td>yıl süren kanlı çatışmaların ardından afganist...</td>\n      <td>Culture-Art</td>\n    </tr>\n    <tr>\n      <th>68</th>\n      <td>Taliban Yeni Koronavirüs Tedbirlerini Açıkladı...</td>\n      <td>world</td>\n      <td>world</td>\n      <td>taliban yen koronavirüs tedbir açık kadın dışa...</td>\n      <td>Magazine</td>\n      <td>taliban yeni koronavirüs tedbirlerini açıkladı...</td>\n      <td>Culture-Art</td>\n    </tr>\n    <tr>\n      <th>71</th>\n      <td>Yunanistan'a Yardım İçin 2 Adet Yangın Söndürm...</td>\n      <td>world</td>\n      <td>world</td>\n      <td>yunanistan a yardım i̇çin adet yang söndür uça...</td>\n      <td>Culture-Art</td>\n      <td>yunanistan a yardım i̇çin adet yangın söndürme...</td>\n      <td>Culture-Art</td>\n    </tr>\n    <tr>\n      <th>72</th>\n      <td>Efsanelerde Adı Geçen Dingo'nun Ahırı'nın Türk...</td>\n      <td>world</td>\n      <td>world</td>\n      <td>efsane ad geçen dingo nun ahır nın türki sınır...</td>\n      <td>Culture-Art</td>\n      <td>efsanelerde adı geçen dingo nun ahırı nın türk...</td>\n      <td>Culture-Art</td>\n    </tr>\n    <tr>\n      <th>...</th>\n      <td>...</td>\n      <td>...</td>\n      <td>...</td>\n      <td>...</td>\n      <td>...</td>\n      <td>...</td>\n      <td>...</td>\n    </tr>\n    <tr>\n      <th>2915</th>\n      <td>İngiliz Kraliyet Ailesi'ni Sarsan Gelişme</td>\n      <td>world</td>\n      <td>world</td>\n      <td>i̇ngiliz kraliyet aile ni sar geliş</td>\n      <td>Culture-Art</td>\n      <td>i̇ngiliz kraliyet ailesi ni sarsan gelişme</td>\n      <td>Culture-Art</td>\n    </tr>\n    <tr>\n      <th>2916</th>\n      <td>İsrail'e Diplomatik Misilleme Girişimi Boy Eng...</td>\n      <td>world</td>\n      <td>world</td>\n      <td>i̇srail e diplomatik misille giriş boy engel t...</td>\n      <td>Culture-Art</td>\n      <td>i̇srail e diplomatik misilleme girişimi boy en...</td>\n      <td>Culture-Art</td>\n    </tr>\n    <tr>\n      <th>2940</th>\n      <td>Töre Cinayetleri Brezilya'yı Sarsmaya Devam Ed...</td>\n      <td>world</td>\n      <td>world</td>\n      <td>tör cinayet brezilya yı sarsma devam ediyor</td>\n      <td>Magazine</td>\n      <td>töre cinayetleri brezilya yı sarsmaya devam ed...</td>\n      <td>Culture-Art</td>\n    </tr>\n    <tr>\n      <th>2950</th>\n      <td>Ermeni Diasporası'ndan Tarihi Geri Adım</td>\n      <td>world</td>\n      <td>world</td>\n      <td>ermen diaspora ndan tarih ger ad</td>\n      <td>Economy</td>\n      <td>ermeni diasporası ndan tarihi geri adım</td>\n      <td>Culture-Art</td>\n    </tr>\n    <tr>\n      <th>2966</th>\n      <td>STV Dizisinden İbret Alarak Müslüman Olan Genç...</td>\n      <td>world</td>\n      <td>world</td>\n      <td>stv dizi i̇bret alarak müslüman olan genç i̇sl...</td>\n      <td>Magazine</td>\n      <td>stv dizisinden i̇bret alarak müslüman olan gen...</td>\n      <td>Culture-Art</td>\n    </tr>\n  </tbody>\n</table>\n<p>361 rows × 7 columns</p>\n</div>"
     },
     "execution_count": 60,
     "metadata": {},
     "output_type": "execute_result"
    }
   ],
   "source": [
    "df[df['subject']=='world']"
   ],
   "metadata": {
    "collapsed": false
   }
  },
  {
   "cell_type": "code",
   "execution_count": 61,
   "outputs": [],
   "source": [
    "df.to_excel('re_topic_modelled.xlsx')"
   ],
   "metadata": {
    "collapsed": false
   }
  },
  {
   "cell_type": "markdown",
   "source": [
    "## savasy Model"
   ],
   "metadata": {
    "collapsed": false
   }
  },
  {
   "cell_type": "code",
   "execution_count": 6,
   "outputs": [
    {
     "data": {
      "text/plain": "                                                  title   subject  \\\n0     Isparta'yı -5 Derecede 48 Saat Elektriksiz Bır...   economy   \n1     Rapor: Mühendislik Eğitimi Artı MBA Artı Özel ...   economy   \n2     Son 3 Yılda 6 Kez Başkan Değiştiren TÜİK'te İh...  politics   \n3     Ekonomide Düşündüren Tablo: 1 Haftadır Evde Ya...   economy   \n4     ''Teknik sorunlar'' Nedeniyle Türkiye'ye Doğal...   economy   \n...                                                 ...       ...   \n2801  Takımdan Ayrı Düz Koşu Yapan Futbolcu Ortadan ...     sport   \n2802  Kameraya \"5 İşareti\" Yapan Taraftarlar Stada A...     sport   \n2803  Hentbol Federasyonu'ndan Sert Çıkış: \"Utanılac...     sport   \n2804  Deplasman Röportaj Yönetmeliğine Uymayan Futbo...     sport   \n2805          Federasyondan Yılmaz Vural'a Anlamlı Jest     sport   \n\n     pred_subject                                   title_preprocess  \\\n0         economy  ispar yı derece saat elektriks bırakan akde el...   \n1         economy  rapor mühendislik eğit art mba art özel sektör...   \n2         economy  son yıl başkan değiştiren tüi̇k te i̇hale sist...   \n3         economy  ekonomi düşündüren tablo haf ev ya oksijen i̇s...   \n4         economy  teknik sor neden türki ye doğalgaz satış durdu...   \n...           ...                                                ...   \n2801        sport        takım ayr düz koş yapan futbolç orta kaybol   \n2802        sport     kamera i̇şareti yapan taraftar sta alınmayacak   \n2803        sport  hentbol federasyon ndan sert çıkış utanılacak ...   \n2804        sport  deplasman röportaj yönetmelik uymayan futbolcu...   \n2805        sport               federasyon yılmaz vural a anlam jest   \n\n     pred-process                                  title_preprocess2  \\\n0     Culture-Art  isparta yı derecede saat elektriksiz bırakan a...   \n1     Culture-Art  rapor mühendislik eğitimi artı mba artı özel s...   \n2     Culture-Art  son yılda başkan değiştiren tüi̇k te i̇hale si...   \n3     Culture-Art  ekonomide düşündüren tablo haftadır evde yatan...   \n4        Magazine  teknik sorunlar nedeniyle türkiye ye doğalgaz ...   \n...           ...                                                ...   \n2801  Culture-Art  takımdan ayrı düz koşu yapan futbolcu ortadan ...   \n2802        Sport  kameraya i̇şareti yapan taraftarlar stada alın...   \n2803        Sport  hentbol federasyonu ndan sert çıkış utanılacak...   \n2804        Sport  deplasman röportaj yönetmeliğine uymayan futbo...   \n2805     Magazine          federasyondan yılmaz vural a anlamlı jest   \n\n     pred-process2  \n0      Culture-Art  \n1      Culture-Art  \n2      Culture-Art  \n3      Culture-Art  \n4      Culture-Art  \n...            ...  \n2801         Sport  \n2802         Sport  \n2803         Sport  \n2804         Sport  \n2805      Magazine  \n\n[2806 rows x 7 columns]",
      "text/html": "<div>\n<style scoped>\n    .dataframe tbody tr th:only-of-type {\n        vertical-align: middle;\n    }\n\n    .dataframe tbody tr th {\n        vertical-align: top;\n    }\n\n    .dataframe thead th {\n        text-align: right;\n    }\n</style>\n<table border=\"1\" class=\"dataframe\">\n  <thead>\n    <tr style=\"text-align: right;\">\n      <th></th>\n      <th>title</th>\n      <th>subject</th>\n      <th>pred_subject</th>\n      <th>title_preprocess</th>\n      <th>pred-process</th>\n      <th>title_preprocess2</th>\n      <th>pred-process2</th>\n    </tr>\n  </thead>\n  <tbody>\n    <tr>\n      <th>0</th>\n      <td>Isparta'yı -5 Derecede 48 Saat Elektriksiz Bır...</td>\n      <td>economy</td>\n      <td>economy</td>\n      <td>ispar yı derece saat elektriks bırakan akde el...</td>\n      <td>Culture-Art</td>\n      <td>isparta yı derecede saat elektriksiz bırakan a...</td>\n      <td>Culture-Art</td>\n    </tr>\n    <tr>\n      <th>1</th>\n      <td>Rapor: Mühendislik Eğitimi Artı MBA Artı Özel ...</td>\n      <td>economy</td>\n      <td>economy</td>\n      <td>rapor mühendislik eğit art mba art özel sektör...</td>\n      <td>Culture-Art</td>\n      <td>rapor mühendislik eğitimi artı mba artı özel s...</td>\n      <td>Culture-Art</td>\n    </tr>\n    <tr>\n      <th>2</th>\n      <td>Son 3 Yılda 6 Kez Başkan Değiştiren TÜİK'te İh...</td>\n      <td>politics</td>\n      <td>economy</td>\n      <td>son yıl başkan değiştiren tüi̇k te i̇hale sist...</td>\n      <td>Culture-Art</td>\n      <td>son yılda başkan değiştiren tüi̇k te i̇hale si...</td>\n      <td>Culture-Art</td>\n    </tr>\n    <tr>\n      <th>3</th>\n      <td>Ekonomide Düşündüren Tablo: 1 Haftadır Evde Ya...</td>\n      <td>economy</td>\n      <td>economy</td>\n      <td>ekonomi düşündüren tablo haf ev ya oksijen i̇s...</td>\n      <td>Culture-Art</td>\n      <td>ekonomide düşündüren tablo haftadır evde yatan...</td>\n      <td>Culture-Art</td>\n    </tr>\n    <tr>\n      <th>4</th>\n      <td>''Teknik sorunlar'' Nedeniyle Türkiye'ye Doğal...</td>\n      <td>economy</td>\n      <td>economy</td>\n      <td>teknik sor neden türki ye doğalgaz satış durdu...</td>\n      <td>Magazine</td>\n      <td>teknik sorunlar nedeniyle türkiye ye doğalgaz ...</td>\n      <td>Culture-Art</td>\n    </tr>\n    <tr>\n      <th>...</th>\n      <td>...</td>\n      <td>...</td>\n      <td>...</td>\n      <td>...</td>\n      <td>...</td>\n      <td>...</td>\n      <td>...</td>\n    </tr>\n    <tr>\n      <th>2801</th>\n      <td>Takımdan Ayrı Düz Koşu Yapan Futbolcu Ortadan ...</td>\n      <td>sport</td>\n      <td>sport</td>\n      <td>takım ayr düz koş yapan futbolç orta kaybol</td>\n      <td>Culture-Art</td>\n      <td>takımdan ayrı düz koşu yapan futbolcu ortadan ...</td>\n      <td>Sport</td>\n    </tr>\n    <tr>\n      <th>2802</th>\n      <td>Kameraya \"5 İşareti\" Yapan Taraftarlar Stada A...</td>\n      <td>sport</td>\n      <td>sport</td>\n      <td>kamera i̇şareti yapan taraftar sta alınmayacak</td>\n      <td>Sport</td>\n      <td>kameraya i̇şareti yapan taraftarlar stada alın...</td>\n      <td>Sport</td>\n    </tr>\n    <tr>\n      <th>2803</th>\n      <td>Hentbol Federasyonu'ndan Sert Çıkış: \"Utanılac...</td>\n      <td>sport</td>\n      <td>sport</td>\n      <td>hentbol federasyon ndan sert çıkış utanılacak ...</td>\n      <td>Sport</td>\n      <td>hentbol federasyonu ndan sert çıkış utanılacak...</td>\n      <td>Sport</td>\n    </tr>\n    <tr>\n      <th>2804</th>\n      <td>Deplasman Röportaj Yönetmeliğine Uymayan Futbo...</td>\n      <td>sport</td>\n      <td>sport</td>\n      <td>deplasman röportaj yönetmelik uymayan futbolcu...</td>\n      <td>Sport</td>\n      <td>deplasman röportaj yönetmeliğine uymayan futbo...</td>\n      <td>Sport</td>\n    </tr>\n    <tr>\n      <th>2805</th>\n      <td>Federasyondan Yılmaz Vural'a Anlamlı Jest</td>\n      <td>sport</td>\n      <td>sport</td>\n      <td>federasyon yılmaz vural a anlam jest</td>\n      <td>Magazine</td>\n      <td>federasyondan yılmaz vural a anlamlı jest</td>\n      <td>Magazine</td>\n    </tr>\n  </tbody>\n</table>\n<p>2806 rows × 7 columns</p>\n</div>"
     },
     "execution_count": 6,
     "metadata": {},
     "output_type": "execute_result"
    }
   ],
   "source": [
    "df = pd.read_excel('re_topic_modelled.xlsx')\n",
    "df.drop('Unnamed: 0',axis=1, inplace=True)\n",
    "df"
   ],
   "metadata": {
    "collapsed": false
   }
  },
  {
   "cell_type": "code",
   "execution_count": 7,
   "outputs": [],
   "source": [
    "from transformers import pipeline, AutoModelForTokenClassification, AutoTokenizer, AutoModelForSequenceClassification\n",
    "tokenizer= AutoTokenizer.from_pretrained(\"savasy/bert-turkish-text-classification\")\n",
    "model= AutoModelForSequenceClassification.from_pretrained(\"savasy/bert-turkish-text-classification\")"
   ],
   "metadata": {
    "collapsed": false
   }
  },
  {
   "cell_type": "code",
   "execution_count": 8,
   "outputs": [],
   "source": [
    "nlp=pipeline(\"sentiment-analysis\", model=model, tokenizer=tokenizer,)"
   ],
   "metadata": {
    "collapsed": false
   }
  },
  {
   "cell_type": "code",
   "execution_count": 9,
   "outputs": [
    {
     "data": {
      "text/plain": "'politics'"
     },
     "execution_count": 9,
     "metadata": {},
     "output_type": "execute_result"
    }
   ],
   "source": [
    "nlp(\"Anayasa Mahkemesi, 2000 ve Sonrası Doğumluların Gençliklerinin İptali İstemiyle Yapılan Başvuruyu İncelemeye Aldı...\")[0]['label']"
   ],
   "metadata": {
    "collapsed": false
   }
  },
  {
   "cell_type": "code",
   "execution_count": 10,
   "outputs": [
    {
     "ename": "KeyError",
     "evalue": "'politics'",
     "output_type": "error",
     "traceback": [
      "\u001B[1;31m---------------------------------------------------------------------------\u001B[0m",
      "\u001B[1;31mKeyError\u001B[0m                                  Traceback (most recent call last)",
      "\u001B[1;32m~\\AppData\\Local\\Temp\\ipykernel_9560\\727601607.py\u001B[0m in \u001B[0;36m<module>\u001B[1;34m\u001B[0m\n\u001B[0;32m      8\u001B[0m  'LABEL_6': 'teknoloji '}\n\u001B[0;32m      9\u001B[0m \u001B[1;33m\u001B[0m\u001B[0m\n\u001B[1;32m---> 10\u001B[1;33m \u001B[0mcode_to_label\u001B[0m\u001B[1;33m[\u001B[0m\u001B[0mnlp\u001B[0m\u001B[1;33m(\u001B[0m\u001B[1;34m\"Anayasa Mahkemesi, 2000 ve Sonrası Doğumluların Gençliklerinin İptali İstemiyle Yapılan Başvuruyu İncelemeye Aldı...\"\u001B[0m\u001B[1;33m)\u001B[0m\u001B[1;33m[\u001B[0m\u001B[1;36m0\u001B[0m\u001B[1;33m]\u001B[0m\u001B[1;33m[\u001B[0m\u001B[1;34m'label'\u001B[0m\u001B[1;33m]\u001B[0m\u001B[1;33m]\u001B[0m\u001B[1;33m\u001B[0m\u001B[1;33m\u001B[0m\u001B[0m\n\u001B[0m",
      "\u001B[1;31mKeyError\u001B[0m: 'politics'"
     ]
    }
   ],
   "source": [
    "code_to_label={\n",
    " 'LABEL_0': 'dunya ',\n",
    " 'LABEL_1': 'ekonomi ',\n",
    " 'LABEL_2': 'kultur ',\n",
    " 'LABEL_3': 'saglik ',\n",
    " 'LABEL_4': 'siyaset ',\n",
    " 'LABEL_5': 'spor ',\n",
    " 'LABEL_6': 'teknoloji '}\n",
    "\n",
    "code_to_label[nlp(\"Anayasa Mahkemesi, 2000 ve Sonrası Doğumluların Gençliklerinin İptali İstemiyle Yapılan Başvuruyu İncelemeye Aldı...\")[0]['label']]"
   ],
   "metadata": {
    "collapsed": false
   }
  },
  {
   "cell_type": "code",
   "execution_count": 11,
   "outputs": [],
   "source": [
    "df[\"subject_savasy\"] = df[df['subject']!='education'].apply(lambda x: nlp(x.title)[0]['label'], axis=1)"
   ],
   "metadata": {
    "collapsed": false
   }
  },
  {
   "cell_type": "code",
   "execution_count": 12,
   "outputs": [],
   "source": [
    "df = df[['title',\n",
    " 'subject',\n",
    " 'pred_subject',\n",
    "    'subject_savasy']]"
   ],
   "metadata": {
    "collapsed": false
   }
  },
  {
   "cell_type": "code",
   "execution_count": 13,
   "outputs": [
    {
     "data": {
      "text/plain": "                                                  title   subject  \\\n0     Isparta'yı -5 Derecede 48 Saat Elektriksiz Bır...   economy   \n1     Rapor: Mühendislik Eğitimi Artı MBA Artı Özel ...   economy   \n2     Son 3 Yılda 6 Kez Başkan Değiştiren TÜİK'te İh...  politics   \n3     Ekonomide Düşündüren Tablo: 1 Haftadır Evde Ya...   economy   \n4     ''Teknik sorunlar'' Nedeniyle Türkiye'ye Doğal...   economy   \n...                                                 ...       ...   \n2801  Takımdan Ayrı Düz Koşu Yapan Futbolcu Ortadan ...     sport   \n2802  Kameraya \"5 İşareti\" Yapan Taraftarlar Stada A...     sport   \n2803  Hentbol Federasyonu'ndan Sert Çıkış: \"Utanılac...     sport   \n2804  Deplasman Röportaj Yönetmeliğine Uymayan Futbo...     sport   \n2805          Federasyondan Yılmaz Vural'a Anlamlı Jest     sport   \n\n     pred_subject subject_savasy  \n0         economy        economy  \n1         economy        economy  \n2         economy        economy  \n3         economy        economy  \n4         economy        economy  \n...           ...            ...  \n2801        sport          sport  \n2802        sport          sport  \n2803        sport          sport  \n2804        sport          sport  \n2805        sport          sport  \n\n[2806 rows x 4 columns]",
      "text/html": "<div>\n<style scoped>\n    .dataframe tbody tr th:only-of-type {\n        vertical-align: middle;\n    }\n\n    .dataframe tbody tr th {\n        vertical-align: top;\n    }\n\n    .dataframe thead th {\n        text-align: right;\n    }\n</style>\n<table border=\"1\" class=\"dataframe\">\n  <thead>\n    <tr style=\"text-align: right;\">\n      <th></th>\n      <th>title</th>\n      <th>subject</th>\n      <th>pred_subject</th>\n      <th>subject_savasy</th>\n    </tr>\n  </thead>\n  <tbody>\n    <tr>\n      <th>0</th>\n      <td>Isparta'yı -5 Derecede 48 Saat Elektriksiz Bır...</td>\n      <td>economy</td>\n      <td>economy</td>\n      <td>economy</td>\n    </tr>\n    <tr>\n      <th>1</th>\n      <td>Rapor: Mühendislik Eğitimi Artı MBA Artı Özel ...</td>\n      <td>economy</td>\n      <td>economy</td>\n      <td>economy</td>\n    </tr>\n    <tr>\n      <th>2</th>\n      <td>Son 3 Yılda 6 Kez Başkan Değiştiren TÜİK'te İh...</td>\n      <td>politics</td>\n      <td>economy</td>\n      <td>economy</td>\n    </tr>\n    <tr>\n      <th>3</th>\n      <td>Ekonomide Düşündüren Tablo: 1 Haftadır Evde Ya...</td>\n      <td>economy</td>\n      <td>economy</td>\n      <td>economy</td>\n    </tr>\n    <tr>\n      <th>4</th>\n      <td>''Teknik sorunlar'' Nedeniyle Türkiye'ye Doğal...</td>\n      <td>economy</td>\n      <td>economy</td>\n      <td>economy</td>\n    </tr>\n    <tr>\n      <th>...</th>\n      <td>...</td>\n      <td>...</td>\n      <td>...</td>\n      <td>...</td>\n    </tr>\n    <tr>\n      <th>2801</th>\n      <td>Takımdan Ayrı Düz Koşu Yapan Futbolcu Ortadan ...</td>\n      <td>sport</td>\n      <td>sport</td>\n      <td>sport</td>\n    </tr>\n    <tr>\n      <th>2802</th>\n      <td>Kameraya \"5 İşareti\" Yapan Taraftarlar Stada A...</td>\n      <td>sport</td>\n      <td>sport</td>\n      <td>sport</td>\n    </tr>\n    <tr>\n      <th>2803</th>\n      <td>Hentbol Federasyonu'ndan Sert Çıkış: \"Utanılac...</td>\n      <td>sport</td>\n      <td>sport</td>\n      <td>sport</td>\n    </tr>\n    <tr>\n      <th>2804</th>\n      <td>Deplasman Röportaj Yönetmeliğine Uymayan Futbo...</td>\n      <td>sport</td>\n      <td>sport</td>\n      <td>sport</td>\n    </tr>\n    <tr>\n      <th>2805</th>\n      <td>Federasyondan Yılmaz Vural'a Anlamlı Jest</td>\n      <td>sport</td>\n      <td>sport</td>\n      <td>sport</td>\n    </tr>\n  </tbody>\n</table>\n<p>2806 rows × 4 columns</p>\n</div>"
     },
     "execution_count": 13,
     "metadata": {},
     "output_type": "execute_result"
    }
   ],
   "source": [
    "df"
   ],
   "metadata": {
    "collapsed": false
   }
  },
  {
   "cell_type": "code",
   "execution_count": 15,
   "outputs": [
    {
     "name": "stdout",
     "output_type": "stream",
     "text": [
      "              precision    recall  f1-score   support\n",
      "\n",
      "     culture       0.00      0.00      0.00         0\n",
      "     economy       0.80      0.78      0.79       650\n",
      "      health       0.70      0.60      0.65       182\n",
      "    politics       0.88      0.67      0.76       861\n",
      "       sport       0.91      0.80      0.85       260\n",
      "  technology       0.72      0.68      0.70       299\n",
      "       world       0.65      0.76      0.70       361\n",
      "\n",
      "    accuracy                           0.72      2613\n",
      "   macro avg       0.66      0.61      0.63      2613\n",
      "weighted avg       0.80      0.72      0.75      2613\n",
      "\n"
     ]
    },
    {
     "name": "stderr",
     "output_type": "stream",
     "text": [
      "C:\\Users\\tarik\\anaconda3\\lib\\site-packages\\sklearn\\metrics\\_classification.py:1318: UndefinedMetricWarning: Recall and F-score are ill-defined and being set to 0.0 in labels with no true samples. Use `zero_division` parameter to control this behavior.\n",
      "  _warn_prf(average, modifier, msg_start, len(result))\n",
      "C:\\Users\\tarik\\anaconda3\\lib\\site-packages\\sklearn\\metrics\\_classification.py:1318: UndefinedMetricWarning: Recall and F-score are ill-defined and being set to 0.0 in labels with no true samples. Use `zero_division` parameter to control this behavior.\n",
      "  _warn_prf(average, modifier, msg_start, len(result))\n",
      "C:\\Users\\tarik\\anaconda3\\lib\\site-packages\\sklearn\\metrics\\_classification.py:1318: UndefinedMetricWarning: Recall and F-score are ill-defined and being set to 0.0 in labels with no true samples. Use `zero_division` parameter to control this behavior.\n",
      "  _warn_prf(average, modifier, msg_start, len(result))\n"
     ]
    }
   ],
   "source": [
    "print(classification_report(y_pred=df[df['subject']!='education'].subject_savasy,y_true=df[df['subject']!='education'].subject))"
   ],
   "metadata": {
    "collapsed": false
   }
  },
  {
   "cell_type": "code",
   "execution_count": 16,
   "outputs": [
    {
     "data": {
      "text/plain": "subject_savasy\nculture       235\neconomy       634\nhealth        158\npolitics      652\nsport         227\ntechnology    282\nworld         425\nName: subject_savasy, dtype: int64"
     },
     "execution_count": 16,
     "metadata": {},
     "output_type": "execute_result"
    }
   ],
   "source": [
    "df.groupby(['subject_savasy'])['subject_savasy'].count()"
   ],
   "metadata": {
    "collapsed": false
   }
  },
  {
   "cell_type": "code",
   "execution_count": 28,
   "outputs": [],
   "source": [
    "df.to_excel('e_topic_modelled2.xlsx')"
   ],
   "metadata": {
    "collapsed": false
   }
  },
  {
   "cell_type": "code",
   "execution_count": null,
   "outputs": [],
   "source": [],
   "metadata": {
    "collapsed": false
   }
  }
 ],
 "metadata": {
  "kernelspec": {
   "display_name": "Python 3",
   "language": "python",
   "name": "python3"
  },
  "language_info": {
   "codemirror_mode": {
    "name": "ipython",
    "version": 2
   },
   "file_extension": ".py",
   "mimetype": "text/x-python",
   "name": "python",
   "nbconvert_exporter": "python",
   "pygments_lexer": "ipython2",
   "version": "2.7.6"
  }
 },
 "nbformat": 4,
 "nbformat_minor": 0
}
