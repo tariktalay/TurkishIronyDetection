{
 "cells": [
  {
   "cell_type": "code",
   "execution_count": 3,
   "metadata": {
    "collapsed": true
   },
   "outputs": [],
   "source": [
    "import pandas as pd\n",
    "import numpy as np\n",
    "import re\n",
    "import nltk"
   ]
  },
  {
   "cell_type": "code",
   "execution_count": 4,
   "outputs": [],
   "source": [
    "def word_counter(text):\n",
    "    sum = 0\n",
    "    text = re.sub(r'  +', ' ', text)\n",
    "    length = (len([i for i in text.split(' ') if i!='']))\n",
    "    for i in text.split(' '):\n",
    "        sum += len(i)\n",
    "    avg_len_word = sum // length\n",
    "    return length, avg_len_word"
   ],
   "metadata": {
    "collapsed": false
   }
  },
  {
   "cell_type": "markdown",
   "source": [
    "## Ironic Data Analyze"
   ],
   "metadata": {
    "collapsed": false
   }
  },
  {
   "cell_type": "code",
   "execution_count": 6,
   "outputs": [
    {
     "data": {
      "text/plain": "                                                  title     subject\n0     Isparta'yı -5 Derecede 48 Saat Elektriksiz Bır...     economy\n1     Rapor: Mühendislik Eğitimi Artı MBA Artı Özel ...     economy\n2     Son 3 Yılda 6 Kez Başkan Değiştiren TÜİK'te İh...    politics\n3     Ekonomide Düşündüren Tablo: 1 Haftadır Evde Ya...     economy\n4     ''Teknik sorunlar'' Nedeniyle Türkiye'ye Doğal...     economy\n...                                                 ...         ...\n3527  AKP’nin seçim şarkısı: Şehit olmaya geldik, çü...    politics\n3528    Çekmeköy Belediyesi’nden Yolda Tarla Uygulaması    politics\n3529   Çinli Bilim Adamları Aromanın da Aromasını Yaptı  technology\n3530  Diyanet İşler Başkanlığı: Halkımızın %99’u Müs...    politics\n3531         Başbakan Davutoğlu: “Kürt Sorununu Çözdük”    politics\n\n[3532 rows x 2 columns]",
      "text/html": "<div>\n<style scoped>\n    .dataframe tbody tr th:only-of-type {\n        vertical-align: middle;\n    }\n\n    .dataframe tbody tr th {\n        vertical-align: top;\n    }\n\n    .dataframe thead th {\n        text-align: right;\n    }\n</style>\n<table border=\"1\" class=\"dataframe\">\n  <thead>\n    <tr style=\"text-align: right;\">\n      <th></th>\n      <th>title</th>\n      <th>subject</th>\n    </tr>\n  </thead>\n  <tbody>\n    <tr>\n      <th>0</th>\n      <td>Isparta'yı -5 Derecede 48 Saat Elektriksiz Bır...</td>\n      <td>economy</td>\n    </tr>\n    <tr>\n      <th>1</th>\n      <td>Rapor: Mühendislik Eğitimi Artı MBA Artı Özel ...</td>\n      <td>economy</td>\n    </tr>\n    <tr>\n      <th>2</th>\n      <td>Son 3 Yılda 6 Kez Başkan Değiştiren TÜİK'te İh...</td>\n      <td>politics</td>\n    </tr>\n    <tr>\n      <th>3</th>\n      <td>Ekonomide Düşündüren Tablo: 1 Haftadır Evde Ya...</td>\n      <td>economy</td>\n    </tr>\n    <tr>\n      <th>4</th>\n      <td>''Teknik sorunlar'' Nedeniyle Türkiye'ye Doğal...</td>\n      <td>economy</td>\n    </tr>\n    <tr>\n      <th>...</th>\n      <td>...</td>\n      <td>...</td>\n    </tr>\n    <tr>\n      <th>3527</th>\n      <td>AKP’nin seçim şarkısı: Şehit olmaya geldik, çü...</td>\n      <td>politics</td>\n    </tr>\n    <tr>\n      <th>3528</th>\n      <td>Çekmeköy Belediyesi’nden Yolda Tarla Uygulaması</td>\n      <td>politics</td>\n    </tr>\n    <tr>\n      <th>3529</th>\n      <td>Çinli Bilim Adamları Aromanın da Aromasını Yaptı</td>\n      <td>technology</td>\n    </tr>\n    <tr>\n      <th>3530</th>\n      <td>Diyanet İşler Başkanlığı: Halkımızın %99’u Müs...</td>\n      <td>politics</td>\n    </tr>\n    <tr>\n      <th>3531</th>\n      <td>Başbakan Davutoğlu: “Kürt Sorununu Çözdük”</td>\n      <td>politics</td>\n    </tr>\n  </tbody>\n</table>\n<p>3532 rows × 2 columns</p>\n</div>"
     },
     "metadata": {},
     "output_type": "display_data"
    }
   ],
   "source": [
    "df_ironic = pd.read_excel('allironic_withsubject.xlsx')\n",
    "df_ironic[df_ironic[\"subject\"]!=\"world\"]\n",
    "display(df_ironic)"
   ],
   "metadata": {
    "collapsed": false
   }
  },
  {
   "cell_type": "code",
   "execution_count": 7,
   "outputs": [
    {
     "data": {
      "text/plain": "                                                  title     subject  num_word  \\\n0     Isparta'yı -5 Derecede 48 Saat Elektriksiz Bır...     economy        25   \n1     Rapor: Mühendislik Eğitimi Artı MBA Artı Özel ...     economy        31   \n2     Son 3 Yılda 6 Kez Başkan Değiştiren TÜİK'te İh...    politics        21   \n3     Ekonomide Düşündüren Tablo: 1 Haftadır Evde Ya...     economy        18   \n4     ''Teknik sorunlar'' Nedeniyle Türkiye'ye Doğal...     economy        13   \n...                                                 ...         ...       ...   \n3527  AKP’nin seçim şarkısı: Şehit olmaya geldik, çü...    politics         8   \n3528    Çekmeköy Belediyesi’nden Yolda Tarla Uygulaması    politics         5   \n3529   Çinli Bilim Adamları Aromanın da Aromasını Yaptı  technology         7   \n3530  Diyanet İşler Başkanlığı: Halkımızın %99’u Müs...    politics         7   \n3531         Başbakan Davutoğlu: “Kürt Sorununu Çözdük”    politics         5   \n\n      avg_len_word  \n0                6  \n1                5  \n2                5  \n3                6  \n4                8  \n...            ...  \n3527             6  \n3528             8  \n3529             6  \n3530             7  \n3531             7  \n\n[3532 rows x 4 columns]",
      "text/html": "<div>\n<style scoped>\n    .dataframe tbody tr th:only-of-type {\n        vertical-align: middle;\n    }\n\n    .dataframe tbody tr th {\n        vertical-align: top;\n    }\n\n    .dataframe thead th {\n        text-align: right;\n    }\n</style>\n<table border=\"1\" class=\"dataframe\">\n  <thead>\n    <tr style=\"text-align: right;\">\n      <th></th>\n      <th>title</th>\n      <th>subject</th>\n      <th>num_word</th>\n      <th>avg_len_word</th>\n    </tr>\n  </thead>\n  <tbody>\n    <tr>\n      <th>0</th>\n      <td>Isparta'yı -5 Derecede 48 Saat Elektriksiz Bır...</td>\n      <td>economy</td>\n      <td>25</td>\n      <td>6</td>\n    </tr>\n    <tr>\n      <th>1</th>\n      <td>Rapor: Mühendislik Eğitimi Artı MBA Artı Özel ...</td>\n      <td>economy</td>\n      <td>31</td>\n      <td>5</td>\n    </tr>\n    <tr>\n      <th>2</th>\n      <td>Son 3 Yılda 6 Kez Başkan Değiştiren TÜİK'te İh...</td>\n      <td>politics</td>\n      <td>21</td>\n      <td>5</td>\n    </tr>\n    <tr>\n      <th>3</th>\n      <td>Ekonomide Düşündüren Tablo: 1 Haftadır Evde Ya...</td>\n      <td>economy</td>\n      <td>18</td>\n      <td>6</td>\n    </tr>\n    <tr>\n      <th>4</th>\n      <td>''Teknik sorunlar'' Nedeniyle Türkiye'ye Doğal...</td>\n      <td>economy</td>\n      <td>13</td>\n      <td>8</td>\n    </tr>\n    <tr>\n      <th>...</th>\n      <td>...</td>\n      <td>...</td>\n      <td>...</td>\n      <td>...</td>\n    </tr>\n    <tr>\n      <th>3527</th>\n      <td>AKP’nin seçim şarkısı: Şehit olmaya geldik, çü...</td>\n      <td>politics</td>\n      <td>8</td>\n      <td>6</td>\n    </tr>\n    <tr>\n      <th>3528</th>\n      <td>Çekmeköy Belediyesi’nden Yolda Tarla Uygulaması</td>\n      <td>politics</td>\n      <td>5</td>\n      <td>8</td>\n    </tr>\n    <tr>\n      <th>3529</th>\n      <td>Çinli Bilim Adamları Aromanın da Aromasını Yaptı</td>\n      <td>technology</td>\n      <td>7</td>\n      <td>6</td>\n    </tr>\n    <tr>\n      <th>3530</th>\n      <td>Diyanet İşler Başkanlığı: Halkımızın %99’u Müs...</td>\n      <td>politics</td>\n      <td>7</td>\n      <td>7</td>\n    </tr>\n    <tr>\n      <th>3531</th>\n      <td>Başbakan Davutoğlu: “Kürt Sorununu Çözdük”</td>\n      <td>politics</td>\n      <td>5</td>\n      <td>7</td>\n    </tr>\n  </tbody>\n</table>\n<p>3532 rows × 4 columns</p>\n</div>"
     },
     "metadata": {},
     "output_type": "display_data"
    }
   ],
   "source": [
    "df_ironic[['num_word','avg_len_word']] =df_ironic.apply(lambda x: word_counter(x.title), axis=1, result_type='expand')\n",
    "display(df_ironic)"
   ],
   "metadata": {
    "collapsed": false
   }
  },
  {
   "cell_type": "code",
   "execution_count": 8,
   "outputs": [
    {
     "name": "stderr",
     "output_type": "stream",
     "text": [
      "/var/folders/4c/qbks93tj3s51x0s4cbdyv3sm0000gn/T/ipykernel_67871/2662608667.py:1: FutureWarning: Indexing with multiple keys (implicitly converted to a tuple of keys) will be deprecated, use a list instead.\n",
      "  df_ironic.groupby('subject')['num_word', 'avg_len_word'].mean().round(0).astype('int')\n"
     ]
    },
    {
     "data": {
      "text/plain": "            num_word  avg_len_word\nsubject                           \neconomy           15             6\neducation         14             6\nhealth            14             7\npolitics          13             7\nsport             13             6\ntechnology        13             6\nworld             15             7",
      "text/html": "<div>\n<style scoped>\n    .dataframe tbody tr th:only-of-type {\n        vertical-align: middle;\n    }\n\n    .dataframe tbody tr th {\n        vertical-align: top;\n    }\n\n    .dataframe thead th {\n        text-align: right;\n    }\n</style>\n<table border=\"1\" class=\"dataframe\">\n  <thead>\n    <tr style=\"text-align: right;\">\n      <th></th>\n      <th>num_word</th>\n      <th>avg_len_word</th>\n    </tr>\n    <tr>\n      <th>subject</th>\n      <th></th>\n      <th></th>\n    </tr>\n  </thead>\n  <tbody>\n    <tr>\n      <th>economy</th>\n      <td>15</td>\n      <td>6</td>\n    </tr>\n    <tr>\n      <th>education</th>\n      <td>14</td>\n      <td>6</td>\n    </tr>\n    <tr>\n      <th>health</th>\n      <td>14</td>\n      <td>7</td>\n    </tr>\n    <tr>\n      <th>politics</th>\n      <td>13</td>\n      <td>7</td>\n    </tr>\n    <tr>\n      <th>sport</th>\n      <td>13</td>\n      <td>6</td>\n    </tr>\n    <tr>\n      <th>technology</th>\n      <td>13</td>\n      <td>6</td>\n    </tr>\n    <tr>\n      <th>world</th>\n      <td>15</td>\n      <td>7</td>\n    </tr>\n  </tbody>\n</table>\n</div>"
     },
     "execution_count": 8,
     "metadata": {},
     "output_type": "execute_result"
    }
   ],
   "source": [
    "df_ironic.groupby('subject')['num_word', 'avg_len_word'].mean().round(0).astype('int')"
   ],
   "metadata": {
    "collapsed": false
   }
  },
  {
   "cell_type": "code",
   "execution_count": 10,
   "outputs": [
    {
     "data": {
      "text/plain": "subject\neconomy        748\neducation      235\nhealth         212\npolitics      1348\nsport          280\ntechnology     348\nworld          361\nName: subject, dtype: int64"
     },
     "metadata": {},
     "output_type": "display_data"
    }
   ],
   "source": [
    "display(df_ironic.groupby('subject')['subject'].count())"
   ],
   "metadata": {
    "collapsed": false
   }
  },
  {
   "cell_type": "markdown",
   "source": [
    "## Non-Ironic Data Analyze"
   ],
   "metadata": {
    "collapsed": false
   }
  },
  {
   "cell_type": "code",
   "execution_count": 14,
   "outputs": [
    {
     "data": {
      "text/plain": "                                            HABERLER   ETIKET\n0  TÜİK verilerine göre sanayi ciro endeksi Ağust...  Ekonomi\n1                  Piyasa güne eksi rezervde başladı  Ekonomi\n2  Citigroup, Deutsche Bank ve HSBC Libor manipül...  Ekonomi\n3  Gelişen piyasa yatırımcılarını en fazla 'Fed' ...  Ekonomi\n4            Bitcoin fiyatında yükseliş hız kesmiyor  Ekonomi\n5       Petrolün varili 56,53 dolardan işlem görüyor  Ekonomi\n6  IMF Başkanı Christine Lagarde, artan global ri...  Ekonomi\n7  Tüpraş 7 yıl vadeyle 700 milyon dolar borçlanıyor  Ekonomi\n8  Çin'de ihracat direncini korurken ithalat hızl...  Ekonomi\n9    Fed'in aralıkta faiz artıracağına emin değilim'  Ekonomi",
      "text/html": "<div>\n<style scoped>\n    .dataframe tbody tr th:only-of-type {\n        vertical-align: middle;\n    }\n\n    .dataframe tbody tr th {\n        vertical-align: top;\n    }\n\n    .dataframe thead th {\n        text-align: right;\n    }\n</style>\n<table border=\"1\" class=\"dataframe\">\n  <thead>\n    <tr style=\"text-align: right;\">\n      <th></th>\n      <th>HABERLER</th>\n      <th>ETIKET</th>\n    </tr>\n  </thead>\n  <tbody>\n    <tr>\n      <th>0</th>\n      <td>TÜİK verilerine göre sanayi ciro endeksi Ağust...</td>\n      <td>Ekonomi</td>\n    </tr>\n    <tr>\n      <th>1</th>\n      <td>Piyasa güne eksi rezervde başladı</td>\n      <td>Ekonomi</td>\n    </tr>\n    <tr>\n      <th>2</th>\n      <td>Citigroup, Deutsche Bank ve HSBC Libor manipül...</td>\n      <td>Ekonomi</td>\n    </tr>\n    <tr>\n      <th>3</th>\n      <td>Gelişen piyasa yatırımcılarını en fazla 'Fed' ...</td>\n      <td>Ekonomi</td>\n    </tr>\n    <tr>\n      <th>4</th>\n      <td>Bitcoin fiyatında yükseliş hız kesmiyor</td>\n      <td>Ekonomi</td>\n    </tr>\n    <tr>\n      <th>5</th>\n      <td>Petrolün varili 56,53 dolardan işlem görüyor</td>\n      <td>Ekonomi</td>\n    </tr>\n    <tr>\n      <th>6</th>\n      <td>IMF Başkanı Christine Lagarde, artan global ri...</td>\n      <td>Ekonomi</td>\n    </tr>\n    <tr>\n      <th>7</th>\n      <td>Tüpraş 7 yıl vadeyle 700 milyon dolar borçlanıyor</td>\n      <td>Ekonomi</td>\n    </tr>\n    <tr>\n      <th>8</th>\n      <td>Çin'de ihracat direncini korurken ithalat hızl...</td>\n      <td>Ekonomi</td>\n    </tr>\n    <tr>\n      <th>9</th>\n      <td>Fed'in aralıkta faiz artıracağına emin değilim'</td>\n      <td>Ekonomi</td>\n    </tr>\n  </tbody>\n</table>\n</div>"
     },
     "metadata": {},
     "output_type": "display_data"
    }
   ],
   "source": [
    "df_non_ironic = pd.read_excel('Non-Ironic Data/TurkishHeadlines.xlsx')\n",
    "display(df_non_ironic.head(10))"
   ],
   "metadata": {
    "collapsed": false
   }
  },
  {
   "cell_type": "code",
   "execution_count": 15,
   "outputs": [],
   "source": [
    "df_non_ironic['HABERLER'] = df_non_ironic.apply(lambda x: re.sub(' ', ' ',x.HABERLER), axis=1)"
   ],
   "metadata": {
    "collapsed": false
   }
  },
  {
   "cell_type": "code",
   "execution_count": 16,
   "outputs": [],
   "source": [
    "df_non_ironic[['num_word','avg_len_word']] =df_non_ironic.apply(lambda x: word_counter(x.HABERLER), axis=1, result_type='expand')"
   ],
   "metadata": {
    "collapsed": false
   }
  },
  {
   "cell_type": "code",
   "execution_count": 17,
   "outputs": [
    {
     "name": "stderr",
     "output_type": "stream",
     "text": [
      "/var/folders/4c/qbks93tj3s51x0s4cbdyv3sm0000gn/T/ipykernel_67871/2610747289.py:1: FutureWarning: Indexing with multiple keys (implicitly converted to a tuple of keys) will be deprecated, use a list instead.\n",
      "  df_non_ironic.groupby('ETIKET')['num_word', 'avg_len_word'].mean().round(0).astype('int')\n"
     ]
    },
    {
     "data": {
      "text/plain": "           num_word  avg_len_word\nETIKET                           \nEkonomi          12             6\nMagazin          16             6\nSağlık           15             6\nSiyaset          13             7\nSpor             17             6\nTeknoloji        13             6\nYaşam            12             6",
      "text/html": "<div>\n<style scoped>\n    .dataframe tbody tr th:only-of-type {\n        vertical-align: middle;\n    }\n\n    .dataframe tbody tr th {\n        vertical-align: top;\n    }\n\n    .dataframe thead th {\n        text-align: right;\n    }\n</style>\n<table border=\"1\" class=\"dataframe\">\n  <thead>\n    <tr style=\"text-align: right;\">\n      <th></th>\n      <th>num_word</th>\n      <th>avg_len_word</th>\n    </tr>\n    <tr>\n      <th>ETIKET</th>\n      <th></th>\n      <th></th>\n    </tr>\n  </thead>\n  <tbody>\n    <tr>\n      <th>Ekonomi</th>\n      <td>12</td>\n      <td>6</td>\n    </tr>\n    <tr>\n      <th>Magazin</th>\n      <td>16</td>\n      <td>6</td>\n    </tr>\n    <tr>\n      <th>Sağlık</th>\n      <td>15</td>\n      <td>6</td>\n    </tr>\n    <tr>\n      <th>Siyaset</th>\n      <td>13</td>\n      <td>7</td>\n    </tr>\n    <tr>\n      <th>Spor</th>\n      <td>17</td>\n      <td>6</td>\n    </tr>\n    <tr>\n      <th>Teknoloji</th>\n      <td>13</td>\n      <td>6</td>\n    </tr>\n    <tr>\n      <th>Yaşam</th>\n      <td>12</td>\n      <td>6</td>\n    </tr>\n  </tbody>\n</table>\n</div>"
     },
     "execution_count": 17,
     "metadata": {},
     "output_type": "execute_result"
    }
   ],
   "source": [
    "df_non_ironic.groupby('ETIKET')['num_word', 'avg_len_word'].mean().round(0).astype('int')"
   ],
   "metadata": {
    "collapsed": false
   }
  },
  {
   "cell_type": "code",
   "execution_count": 18,
   "outputs": [
    {
     "data": {
      "text/plain": "ETIKET\nEkonomi      600\nSağlık       600\nSiyaset      600\nSpor         600\nTeknoloji    600\nName: ETIKET, dtype: int64"
     },
     "execution_count": 18,
     "metadata": {},
     "output_type": "execute_result"
    }
   ],
   "source": [
    "df_non_ironic[(-df_non_ironic['ETIKET'].isin(['Magazin','Yaşam']))].groupby('ETIKET')['ETIKET'].count()"
   ],
   "metadata": {
    "collapsed": false
   }
  },
  {
   "cell_type": "code",
   "execution_count": 25,
   "outputs": [
    {
     "data": {
      "text/plain": "ETIKET\nTeknoloji    348\nName: ETIKET, dtype: int64"
     },
     "metadata": {},
     "output_type": "display_data"
    }
   ],
   "source": [
    "tech = df_non_ironic[(df_non_ironic['ETIKET']=='Teknoloji')&(df_non_ironic['num_word']>=6)&(df_non_ironic['num_word']<=22)][:348]\n",
    "display(tech.groupby('ETIKET')['ETIKET'].count())"
   ],
   "metadata": {
    "collapsed": false
   }
  },
  {
   "cell_type": "code",
   "execution_count": 27,
   "outputs": [
    {
     "data": {
      "text/plain": "ETIKET\nSağlık    212\nName: ETIKET, dtype: int64"
     },
     "metadata": {},
     "output_type": "display_data"
    }
   ],
   "source": [
    "health = df_non_ironic[(df_non_ironic['ETIKET']=='Sağlık')&(df_non_ironic['num_word']>=10)&(df_non_ironic['num_word']<=19)][:212]\n",
    "display(health.groupby('ETIKET')['ETIKET'].count())"
   ],
   "metadata": {
    "collapsed": false
   }
  },
  {
   "cell_type": "code",
   "execution_count": 30,
   "outputs": [
    {
     "data": {
      "text/plain": "ETIKET\nSpor    280\nName: ETIKET, dtype: int64"
     },
     "metadata": {},
     "output_type": "display_data"
    }
   ],
   "source": [
    "sport = df_non_ironic[(df_non_ironic['ETIKET']=='Spor')&(df_non_ironic['num_word']>=10)&(df_non_ironic['num_word']<=17)][:280]\n",
    "display(sport.groupby('ETIKET')['ETIKET'].count())"
   ],
   "metadata": {
    "collapsed": false
   }
  },
  {
   "cell_type": "markdown",
   "source": [
    "### Balanced with the savasy non-ironic dataset"
   ],
   "metadata": {
    "collapsed": false
   }
  },
  {
   "cell_type": "code",
   "execution_count": 32,
   "outputs": [],
   "source": [
    "balanced = pd.DataFrame()"
   ],
   "metadata": {
    "collapsed": false
   }
  },
  {
   "cell_type": "code",
   "execution_count": 33,
   "outputs": [],
   "source": [
    "balanced = pd.concat([balanced, tech])\n",
    "balanced = pd.concat([balanced, health])\n",
    "balanced = pd.concat([balanced, sport])\n",
    "balanced = pd.concat([balanced, df_non_ironic[df_non_ironic['ETIKET']=='Ekonomi']])\n",
    "balanced = pd.concat([balanced, df_non_ironic[df_non_ironic['ETIKET']=='Siyaset']])"
   ],
   "metadata": {
    "collapsed": false
   }
  },
  {
   "cell_type": "code",
   "execution_count": 34,
   "outputs": [
    {
     "data": {
      "text/plain": "ETIKET\nEkonomi      600\nSağlık       212\nSiyaset      600\nSpor         280\nTeknoloji    348\nName: ETIKET, dtype: int64"
     },
     "metadata": {},
     "output_type": "display_data"
    }
   ],
   "source": [
    "display(balanced.groupby('ETIKET')['ETIKET'].count())"
   ],
   "metadata": {
    "collapsed": false
   }
  },
  {
   "cell_type": "code",
   "execution_count": 36,
   "outputs": [
    {
     "name": "stderr",
     "output_type": "stream",
     "text": [
      "/var/folders/4c/qbks93tj3s51x0s4cbdyv3sm0000gn/T/ipykernel_67871/903787466.py:1: FutureWarning: Indexing with multiple keys (implicitly converted to a tuple of keys) will be deprecated, use a list instead.\n",
      "  display(balanced.groupby('ETIKET')['num_word', 'avg_len_word'].mean().round(0).astype('int'))\n"
     ]
    },
    {
     "data": {
      "text/plain": "           num_word  avg_len_word\nETIKET                           \nEkonomi          12             6\nSağlık           15             7\nSiyaset          13             7\nSpor             14             7\nTeknoloji        13             6",
      "text/html": "<div>\n<style scoped>\n    .dataframe tbody tr th:only-of-type {\n        vertical-align: middle;\n    }\n\n    .dataframe tbody tr th {\n        vertical-align: top;\n    }\n\n    .dataframe thead th {\n        text-align: right;\n    }\n</style>\n<table border=\"1\" class=\"dataframe\">\n  <thead>\n    <tr style=\"text-align: right;\">\n      <th></th>\n      <th>num_word</th>\n      <th>avg_len_word</th>\n    </tr>\n    <tr>\n      <th>ETIKET</th>\n      <th></th>\n      <th></th>\n    </tr>\n  </thead>\n  <tbody>\n    <tr>\n      <th>Ekonomi</th>\n      <td>12</td>\n      <td>6</td>\n    </tr>\n    <tr>\n      <th>Sağlık</th>\n      <td>15</td>\n      <td>7</td>\n    </tr>\n    <tr>\n      <th>Siyaset</th>\n      <td>13</td>\n      <td>7</td>\n    </tr>\n    <tr>\n      <th>Spor</th>\n      <td>14</td>\n      <td>7</td>\n    </tr>\n    <tr>\n      <th>Teknoloji</th>\n      <td>13</td>\n      <td>6</td>\n    </tr>\n  </tbody>\n</table>\n</div>"
     },
     "metadata": {},
     "output_type": "display_data"
    }
   ],
   "source": [
    "display(balanced.groupby('ETIKET')['num_word', 'avg_len_word'].mean().round(0).astype('int'))"
   ],
   "metadata": {
    "collapsed": false
   }
  },
  {
   "cell_type": "code",
   "execution_count": 39,
   "outputs": [
    {
     "data": {
      "text/plain": "                                                  title    subject  num_word  \\\n3000  Akıllı telefon bağımlılığı son dönemde dünya ç...  Teknoloji        21   \n3004  Küresel akıllı telefon satışları beklentilerin...  Teknoloji         9   \n3005  Apple uygun fiyatlı bir iPad modeli geliştiriyor!  Teknoloji         7   \n3006  Tesla dünyanın en büyük lityum iyon pilini çal...  Teknoloji         8   \n3008  Drone ile sipariş teslimatı, özellikle Amazon ...  Teknoloji        13   \n...                                                 ...        ...       ...   \n2395  Almanya Başbakanı Angela Merkel, Suriye'deki d...    Siyaset         9   \n2396  Almanya Başbakanı Merkel, İstanbul'daki terör ...    Siyaset        12   \n2397  Rusya Devlet Başkanı Vladimir Putin, İstanbul'...    Siyaset        14   \n2398  Kazakistan'da, Cumhurbaşkanı Nursultan Nazarba...    Siyaset        15   \n2399  Fransa Başbakanı Manuel Valls, ülkesinin gelec...    Siyaset        18   \n\n      avg_len_word  \n3000             6  \n3004             7  \n3005             6  \n3006             5  \n3008             6  \n...            ...  \n2395             8  \n2396             9  \n2397             7  \n2398             8  \n2399             7  \n\n[2040 rows x 4 columns]",
      "text/html": "<div>\n<style scoped>\n    .dataframe tbody tr th:only-of-type {\n        vertical-align: middle;\n    }\n\n    .dataframe tbody tr th {\n        vertical-align: top;\n    }\n\n    .dataframe thead th {\n        text-align: right;\n    }\n</style>\n<table border=\"1\" class=\"dataframe\">\n  <thead>\n    <tr style=\"text-align: right;\">\n      <th></th>\n      <th>title</th>\n      <th>subject</th>\n      <th>num_word</th>\n      <th>avg_len_word</th>\n    </tr>\n  </thead>\n  <tbody>\n    <tr>\n      <th>3000</th>\n      <td>Akıllı telefon bağımlılığı son dönemde dünya ç...</td>\n      <td>Teknoloji</td>\n      <td>21</td>\n      <td>6</td>\n    </tr>\n    <tr>\n      <th>3004</th>\n      <td>Küresel akıllı telefon satışları beklentilerin...</td>\n      <td>Teknoloji</td>\n      <td>9</td>\n      <td>7</td>\n    </tr>\n    <tr>\n      <th>3005</th>\n      <td>Apple uygun fiyatlı bir iPad modeli geliştiriyor!</td>\n      <td>Teknoloji</td>\n      <td>7</td>\n      <td>6</td>\n    </tr>\n    <tr>\n      <th>3006</th>\n      <td>Tesla dünyanın en büyük lityum iyon pilini çal...</td>\n      <td>Teknoloji</td>\n      <td>8</td>\n      <td>5</td>\n    </tr>\n    <tr>\n      <th>3008</th>\n      <td>Drone ile sipariş teslimatı, özellikle Amazon ...</td>\n      <td>Teknoloji</td>\n      <td>13</td>\n      <td>6</td>\n    </tr>\n    <tr>\n      <th>...</th>\n      <td>...</td>\n      <td>...</td>\n      <td>...</td>\n      <td>...</td>\n    </tr>\n    <tr>\n      <th>2395</th>\n      <td>Almanya Başbakanı Angela Merkel, Suriye'deki d...</td>\n      <td>Siyaset</td>\n      <td>9</td>\n      <td>8</td>\n    </tr>\n    <tr>\n      <th>2396</th>\n      <td>Almanya Başbakanı Merkel, İstanbul'daki terör ...</td>\n      <td>Siyaset</td>\n      <td>12</td>\n      <td>9</td>\n    </tr>\n    <tr>\n      <th>2397</th>\n      <td>Rusya Devlet Başkanı Vladimir Putin, İstanbul'...</td>\n      <td>Siyaset</td>\n      <td>14</td>\n      <td>7</td>\n    </tr>\n    <tr>\n      <th>2398</th>\n      <td>Kazakistan'da, Cumhurbaşkanı Nursultan Nazarba...</td>\n      <td>Siyaset</td>\n      <td>15</td>\n      <td>8</td>\n    </tr>\n    <tr>\n      <th>2399</th>\n      <td>Fransa Başbakanı Manuel Valls, ülkesinin gelec...</td>\n      <td>Siyaset</td>\n      <td>18</td>\n      <td>7</td>\n    </tr>\n  </tbody>\n</table>\n<p>2040 rows × 4 columns</p>\n</div>"
     },
     "metadata": {},
     "output_type": "display_data"
    }
   ],
   "source": [
    "balanced.columns = df_ironic.columns\n",
    "display(balanced)"
   ],
   "metadata": {
    "collapsed": false
   }
  },
  {
   "cell_type": "code",
   "execution_count": 40,
   "outputs": [
    {
     "data": {
      "text/plain": "                                                  title     subject  num_word  \\\n3000  Akıllı telefon bağımlılığı son dönemde dünya ç...  technology        21   \n3004  Küresel akıllı telefon satışları beklentilerin...  technology         9   \n3005  Apple uygun fiyatlı bir iPad modeli geliştiriyor!  technology         7   \n3006  Tesla dünyanın en büyük lityum iyon pilini çal...  technology         8   \n3008  Drone ile sipariş teslimatı, özellikle Amazon ...  technology        13   \n...                                                 ...         ...       ...   \n2395  Almanya Başbakanı Angela Merkel, Suriye'deki d...    politics         9   \n2396  Almanya Başbakanı Merkel, İstanbul'daki terör ...    politics        12   \n2397  Rusya Devlet Başkanı Vladimir Putin, İstanbul'...    politics        14   \n2398  Kazakistan'da, Cumhurbaşkanı Nursultan Nazarba...    politics        15   \n2399  Fransa Başbakanı Manuel Valls, ülkesinin gelec...    politics        18   \n\n      avg_len_word  \n3000             6  \n3004             7  \n3005             6  \n3006             5  \n3008             6  \n...            ...  \n2395             8  \n2396             9  \n2397             7  \n2398             8  \n2399             7  \n\n[2040 rows x 4 columns]",
      "text/html": "<div>\n<style scoped>\n    .dataframe tbody tr th:only-of-type {\n        vertical-align: middle;\n    }\n\n    .dataframe tbody tr th {\n        vertical-align: top;\n    }\n\n    .dataframe thead th {\n        text-align: right;\n    }\n</style>\n<table border=\"1\" class=\"dataframe\">\n  <thead>\n    <tr style=\"text-align: right;\">\n      <th></th>\n      <th>title</th>\n      <th>subject</th>\n      <th>num_word</th>\n      <th>avg_len_word</th>\n    </tr>\n  </thead>\n  <tbody>\n    <tr>\n      <th>3000</th>\n      <td>Akıllı telefon bağımlılığı son dönemde dünya ç...</td>\n      <td>technology</td>\n      <td>21</td>\n      <td>6</td>\n    </tr>\n    <tr>\n      <th>3004</th>\n      <td>Küresel akıllı telefon satışları beklentilerin...</td>\n      <td>technology</td>\n      <td>9</td>\n      <td>7</td>\n    </tr>\n    <tr>\n      <th>3005</th>\n      <td>Apple uygun fiyatlı bir iPad modeli geliştiriyor!</td>\n      <td>technology</td>\n      <td>7</td>\n      <td>6</td>\n    </tr>\n    <tr>\n      <th>3006</th>\n      <td>Tesla dünyanın en büyük lityum iyon pilini çal...</td>\n      <td>technology</td>\n      <td>8</td>\n      <td>5</td>\n    </tr>\n    <tr>\n      <th>3008</th>\n      <td>Drone ile sipariş teslimatı, özellikle Amazon ...</td>\n      <td>technology</td>\n      <td>13</td>\n      <td>6</td>\n    </tr>\n    <tr>\n      <th>...</th>\n      <td>...</td>\n      <td>...</td>\n      <td>...</td>\n      <td>...</td>\n    </tr>\n    <tr>\n      <th>2395</th>\n      <td>Almanya Başbakanı Angela Merkel, Suriye'deki d...</td>\n      <td>politics</td>\n      <td>9</td>\n      <td>8</td>\n    </tr>\n    <tr>\n      <th>2396</th>\n      <td>Almanya Başbakanı Merkel, İstanbul'daki terör ...</td>\n      <td>politics</td>\n      <td>12</td>\n      <td>9</td>\n    </tr>\n    <tr>\n      <th>2397</th>\n      <td>Rusya Devlet Başkanı Vladimir Putin, İstanbul'...</td>\n      <td>politics</td>\n      <td>14</td>\n      <td>7</td>\n    </tr>\n    <tr>\n      <th>2398</th>\n      <td>Kazakistan'da, Cumhurbaşkanı Nursultan Nazarba...</td>\n      <td>politics</td>\n      <td>15</td>\n      <td>8</td>\n    </tr>\n    <tr>\n      <th>2399</th>\n      <td>Fransa Başbakanı Manuel Valls, ülkesinin gelec...</td>\n      <td>politics</td>\n      <td>18</td>\n      <td>7</td>\n    </tr>\n  </tbody>\n</table>\n<p>2040 rows × 4 columns</p>\n</div>"
     },
     "metadata": {},
     "output_type": "display_data"
    }
   ],
   "source": [
    "labels = {'Ekonomi': 'economy','Sağlık':'health','Siyaset':'politics','Spor':'sport','Teknoloji':'technology'}\n",
    "balanced=balanced.replace({\"subject\": labels})\n",
    "display(balanced)"
   ],
   "metadata": {
    "collapsed": false
   }
  },
  {
   "cell_type": "markdown",
   "source": [
    "## Complete the missed non-ironic data from different dataset"
   ],
   "metadata": {
    "collapsed": false
   }
  },
  {
   "cell_type": "code",
   "execution_count": 50,
   "outputs": [
    {
     "name": "stderr",
     "output_type": "stream",
     "text": [
      "/var/folders/4c/qbks93tj3s51x0s4cbdyv3sm0000gn/T/ipykernel_67871/2640981246.py:1: ParserWarning: Falling back to the 'python' engine because the 'c' engine does not support regex separators (separators > 1 char and different from '\\s+' are interpreted as regex); you can avoid this warning by specifying engine='python'.\n",
      "  econ = pd.read_csv('Non-Ironic Data/ts_dataset/economics_539256_lines.txt', delimiter='\\\\n',on_bad_lines='skip', names=['title'])\n",
      "/var/folders/4c/qbks93tj3s51x0s4cbdyv3sm0000gn/T/ipykernel_67871/2640981246.py:2: FutureWarning: In a future version of pandas all arguments of StringMethods.split except for the argument 'pat' will be keyword-only.\n",
      "  econ[['subject','title']] = econ['title'].str.split(' ',1,expand=True)\n"
     ]
    },
    {
     "data": {
      "text/plain": "                                                    title  subject  num_word  \\\n0       İstanbul Kapalıçarşı'da 129,25 liradan alınan ...  economy        52   \n1       2003 yılından bu yana Eczacıbaşı Topluluğu CEO...  economy        12   \n2                         1 Şubat'ta görevi Atalay Gümrah  economy         5   \n3       a devrediyor. Karamercan görevini topluluğun y...  economy        12   \n4       Eczacıbaşı Yatırım Holding Ortaklığı'nın KAP'a...  economy        27   \n...                                                   ...      ...       ...   \n539251  (MEB) ile beraber yürüttüklerini kaydetti. Top...  economy        12   \n539252  ) Başkanı İbrahim Turhan ise zorlu süreçlerle ...  economy        76   \n539253  Merkez Bankası (FED) Başkanı Ben Bernanke, piy...  economy        29   \n539254  desteği sağlayacağını, büyüme ve istihdamda da...  economy       139   \n539255  yüzde 1,84 yükselerek 67.367 puanla 10 Mayıs 2...  economy        14   \n\n        avg_len_word  \n0                  5  \n1                  6  \n2                  5  \n3                  7  \n4                  7  \n...              ...  \n539251             7  \n539252             6  \n539253             7  \n539254             7  \n539255             4  \n\n[539256 rows x 4 columns]",
      "text/html": "<div>\n<style scoped>\n    .dataframe tbody tr th:only-of-type {\n        vertical-align: middle;\n    }\n\n    .dataframe tbody tr th {\n        vertical-align: top;\n    }\n\n    .dataframe thead th {\n        text-align: right;\n    }\n</style>\n<table border=\"1\" class=\"dataframe\">\n  <thead>\n    <tr style=\"text-align: right;\">\n      <th></th>\n      <th>title</th>\n      <th>subject</th>\n      <th>num_word</th>\n      <th>avg_len_word</th>\n    </tr>\n  </thead>\n  <tbody>\n    <tr>\n      <th>0</th>\n      <td>İstanbul Kapalıçarşı'da 129,25 liradan alınan ...</td>\n      <td>economy</td>\n      <td>52</td>\n      <td>5</td>\n    </tr>\n    <tr>\n      <th>1</th>\n      <td>2003 yılından bu yana Eczacıbaşı Topluluğu CEO...</td>\n      <td>economy</td>\n      <td>12</td>\n      <td>6</td>\n    </tr>\n    <tr>\n      <th>2</th>\n      <td>1 Şubat'ta görevi Atalay Gümrah</td>\n      <td>economy</td>\n      <td>5</td>\n      <td>5</td>\n    </tr>\n    <tr>\n      <th>3</th>\n      <td>a devrediyor. Karamercan görevini topluluğun y...</td>\n      <td>economy</td>\n      <td>12</td>\n      <td>7</td>\n    </tr>\n    <tr>\n      <th>4</th>\n      <td>Eczacıbaşı Yatırım Holding Ortaklığı'nın KAP'a...</td>\n      <td>economy</td>\n      <td>27</td>\n      <td>7</td>\n    </tr>\n    <tr>\n      <th>...</th>\n      <td>...</td>\n      <td>...</td>\n      <td>...</td>\n      <td>...</td>\n    </tr>\n    <tr>\n      <th>539251</th>\n      <td>(MEB) ile beraber yürüttüklerini kaydetti. Top...</td>\n      <td>economy</td>\n      <td>12</td>\n      <td>7</td>\n    </tr>\n    <tr>\n      <th>539252</th>\n      <td>) Başkanı İbrahim Turhan ise zorlu süreçlerle ...</td>\n      <td>economy</td>\n      <td>76</td>\n      <td>6</td>\n    </tr>\n    <tr>\n      <th>539253</th>\n      <td>Merkez Bankası (FED) Başkanı Ben Bernanke, piy...</td>\n      <td>economy</td>\n      <td>29</td>\n      <td>7</td>\n    </tr>\n    <tr>\n      <th>539254</th>\n      <td>desteği sağlayacağını, büyüme ve istihdamda da...</td>\n      <td>economy</td>\n      <td>139</td>\n      <td>7</td>\n    </tr>\n    <tr>\n      <th>539255</th>\n      <td>yüzde 1,84 yükselerek 67.367 puanla 10 Mayıs 2...</td>\n      <td>economy</td>\n      <td>14</td>\n      <td>4</td>\n    </tr>\n  </tbody>\n</table>\n<p>539256 rows × 4 columns</p>\n</div>"
     },
     "execution_count": 50,
     "metadata": {},
     "output_type": "execute_result"
    }
   ],
   "source": [
    "econ = pd.read_csv('Non-Ironic Data/ts_dataset/economics_539256_lines.txt', delimiter='\\\\n',on_bad_lines='skip', names=['title'])\n",
    "econ[['subject','title']] = econ['title'].str.split(' ',1,expand=True)\n",
    "econ['subject'] = 'economy'\n",
    "econ[['num_word','avg_len_word']] =econ.apply(lambda x: word_counter(x.title), axis=1, result_type='expand')\n",
    "econ['title'] = econ.apply(lambda x: re.sub(' ', ' ',x.title), axis=1)\n",
    "econ"
   ],
   "metadata": {
    "collapsed": false
   }
  },
  {
   "cell_type": "code",
   "execution_count": 42,
   "outputs": [
    {
     "data": {
      "text/plain": "                                                    title  subject  num_word  \\\n0       İstanbul Kapalıçarşı'da 129,25 liradan alınan ...  economy        52   \n1       2003 yılından bu yana Eczacıbaşı Topluluğu CEO...  economy        12   \n2                         1 Şubat'ta görevi Atalay Gümrah  economy         5   \n3       a devrediyor. Karamercan görevini topluluğun y...  economy        12   \n4       Eczacıbaşı Yatırım Holding Ortaklığı'nın KAP'a...  economy        27   \n...                                                   ...      ...       ...   \n539251  (MEB) ile beraber yürüttüklerini kaydetti. Top...  economy        12   \n539252  ) Başkanı İbrahim Turhan ise zorlu süreçlerle ...  economy        76   \n539253  Merkez Bankası (FED) Başkanı Ben Bernanke, piy...  economy        29   \n539254  desteği sağlayacağını, büyüme ve istihdamda da...  economy       139   \n539255  yüzde 1,84 yükselerek 67.367 puanla 10 Mayıs 2...  economy        14   \n\n        avg_len_word  \n0                  5  \n1                  6  \n2                  5  \n3                  7  \n4                  7  \n...              ...  \n539251             7  \n539252             6  \n539253             7  \n539254             7  \n539255             4  \n\n[539256 rows x 4 columns]",
      "text/html": "<div>\n<style scoped>\n    .dataframe tbody tr th:only-of-type {\n        vertical-align: middle;\n    }\n\n    .dataframe tbody tr th {\n        vertical-align: top;\n    }\n\n    .dataframe thead th {\n        text-align: right;\n    }\n</style>\n<table border=\"1\" class=\"dataframe\">\n  <thead>\n    <tr style=\"text-align: right;\">\n      <th></th>\n      <th>title</th>\n      <th>subject</th>\n      <th>num_word</th>\n      <th>avg_len_word</th>\n    </tr>\n  </thead>\n  <tbody>\n    <tr>\n      <th>0</th>\n      <td>İstanbul Kapalıçarşı'da 129,25 liradan alınan ...</td>\n      <td>economy</td>\n      <td>52</td>\n      <td>5</td>\n    </tr>\n    <tr>\n      <th>1</th>\n      <td>2003 yılından bu yana Eczacıbaşı Topluluğu CEO...</td>\n      <td>economy</td>\n      <td>12</td>\n      <td>6</td>\n    </tr>\n    <tr>\n      <th>2</th>\n      <td>1 Şubat'ta görevi Atalay Gümrah</td>\n      <td>economy</td>\n      <td>5</td>\n      <td>5</td>\n    </tr>\n    <tr>\n      <th>3</th>\n      <td>a devrediyor. Karamercan görevini topluluğun y...</td>\n      <td>economy</td>\n      <td>12</td>\n      <td>7</td>\n    </tr>\n    <tr>\n      <th>4</th>\n      <td>Eczacıbaşı Yatırım Holding Ortaklığı'nın KAP'a...</td>\n      <td>economy</td>\n      <td>27</td>\n      <td>7</td>\n    </tr>\n    <tr>\n      <th>...</th>\n      <td>...</td>\n      <td>...</td>\n      <td>...</td>\n      <td>...</td>\n    </tr>\n    <tr>\n      <th>539251</th>\n      <td>(MEB) ile beraber yürüttüklerini kaydetti. Top...</td>\n      <td>economy</td>\n      <td>12</td>\n      <td>7</td>\n    </tr>\n    <tr>\n      <th>539252</th>\n      <td>) Başkanı İbrahim Turhan ise zorlu süreçlerle ...</td>\n      <td>economy</td>\n      <td>76</td>\n      <td>6</td>\n    </tr>\n    <tr>\n      <th>539253</th>\n      <td>Merkez Bankası (FED) Başkanı Ben Bernanke, piy...</td>\n      <td>economy</td>\n      <td>29</td>\n      <td>7</td>\n    </tr>\n    <tr>\n      <th>539254</th>\n      <td>desteği sağlayacağını, büyüme ve istihdamda da...</td>\n      <td>economy</td>\n      <td>139</td>\n      <td>7</td>\n    </tr>\n    <tr>\n      <th>539255</th>\n      <td>yüzde 1,84 yükselerek 67.367 puanla 10 Mayıs 2...</td>\n      <td>economy</td>\n      <td>14</td>\n      <td>4</td>\n    </tr>\n  </tbody>\n</table>\n<p>539256 rows × 4 columns</p>\n</div>"
     },
     "metadata": {},
     "output_type": "display_data"
    }
   ],
   "source": [
    "display(econ)"
   ],
   "metadata": {
    "collapsed": false
   }
  },
  {
   "cell_type": "code",
   "execution_count": 51,
   "outputs": [
    {
     "data": {
      "text/plain": "                                                   title  subject  num_word  \\\n18925  Enerji ve Tabii Kaynaklar Bakanlığının 2015-20...  economy        23   \n18934  Stratejik Plana göre, doğalgazın ulaşamadığı m...  economy        23   \n19000  Reuters'in haberine göre, Volkswagen, ABD otor...  economy        23   \n19180  İnceleme yapılan şirketler arasında grubun med...  economy        23   \n19269  İstanbul'da Paksan işçileri fabrikayı işgal et...  economy        23   \n...                                                  ...      ...       ...   \n44212  Kredi kartlarında uygulanacak azami faiz oranı...  economy        23   \n44303  *Yaptığınız peyniri peynir kaplama malzemesiyl...  economy        23   \n44618  * Eski yönetmelikte “hava yollarının” çıkarıla...  economy        23   \n44621  Karar, İstanbul’a inşa edilen 3. havalimanını ...  economy        23   \n44688  - Santrallara çevre yatırımları için 2020’ye k...  economy        23   \n\n       avg_len_word  \n18925             7  \n18934             7  \n19000             7  \n19180             7  \n19269             7  \n...             ...  \n44212             7  \n44303             7  \n44618             7  \n44621             7  \n44688             7  \n\n[148 rows x 4 columns]",
      "text/html": "<div>\n<style scoped>\n    .dataframe tbody tr th:only-of-type {\n        vertical-align: middle;\n    }\n\n    .dataframe tbody tr th {\n        vertical-align: top;\n    }\n\n    .dataframe thead th {\n        text-align: right;\n    }\n</style>\n<table border=\"1\" class=\"dataframe\">\n  <thead>\n    <tr style=\"text-align: right;\">\n      <th></th>\n      <th>title</th>\n      <th>subject</th>\n      <th>num_word</th>\n      <th>avg_len_word</th>\n    </tr>\n  </thead>\n  <tbody>\n    <tr>\n      <th>18925</th>\n      <td>Enerji ve Tabii Kaynaklar Bakanlığının 2015-20...</td>\n      <td>economy</td>\n      <td>23</td>\n      <td>7</td>\n    </tr>\n    <tr>\n      <th>18934</th>\n      <td>Stratejik Plana göre, doğalgazın ulaşamadığı m...</td>\n      <td>economy</td>\n      <td>23</td>\n      <td>7</td>\n    </tr>\n    <tr>\n      <th>19000</th>\n      <td>Reuters'in haberine göre, Volkswagen, ABD otor...</td>\n      <td>economy</td>\n      <td>23</td>\n      <td>7</td>\n    </tr>\n    <tr>\n      <th>19180</th>\n      <td>İnceleme yapılan şirketler arasında grubun med...</td>\n      <td>economy</td>\n      <td>23</td>\n      <td>7</td>\n    </tr>\n    <tr>\n      <th>19269</th>\n      <td>İstanbul'da Paksan işçileri fabrikayı işgal et...</td>\n      <td>economy</td>\n      <td>23</td>\n      <td>7</td>\n    </tr>\n    <tr>\n      <th>...</th>\n      <td>...</td>\n      <td>...</td>\n      <td>...</td>\n      <td>...</td>\n    </tr>\n    <tr>\n      <th>44212</th>\n      <td>Kredi kartlarında uygulanacak azami faiz oranı...</td>\n      <td>economy</td>\n      <td>23</td>\n      <td>7</td>\n    </tr>\n    <tr>\n      <th>44303</th>\n      <td>*Yaptığınız peyniri peynir kaplama malzemesiyl...</td>\n      <td>economy</td>\n      <td>23</td>\n      <td>7</td>\n    </tr>\n    <tr>\n      <th>44618</th>\n      <td>* Eski yönetmelikte “hava yollarının” çıkarıla...</td>\n      <td>economy</td>\n      <td>23</td>\n      <td>7</td>\n    </tr>\n    <tr>\n      <th>44621</th>\n      <td>Karar, İstanbul’a inşa edilen 3. havalimanını ...</td>\n      <td>economy</td>\n      <td>23</td>\n      <td>7</td>\n    </tr>\n    <tr>\n      <th>44688</th>\n      <td>- Santrallara çevre yatırımları için 2020’ye k...</td>\n      <td>economy</td>\n      <td>23</td>\n      <td>7</td>\n    </tr>\n  </tbody>\n</table>\n<p>148 rows × 4 columns</p>\n</div>"
     },
     "metadata": {},
     "output_type": "display_data"
    }
   ],
   "source": [
    "econ = econ[(econ['num_word']>22) & (econ['num_word']<24) & (econ['avg_len_word']<8) & (econ['avg_len_word']>6)][100:248]\n",
    "display(econ)"
   ],
   "metadata": {
    "collapsed": false
   }
  },
  {
   "cell_type": "code",
   "execution_count": 52,
   "outputs": [],
   "source": [
    "balanced = pd.concat([balanced, econ])"
   ],
   "metadata": {
    "collapsed": false
   }
  },
  {
   "cell_type": "code",
   "execution_count": 54,
   "outputs": [
    {
     "name": "stderr",
     "output_type": "stream",
     "text": [
      "/var/folders/4c/qbks93tj3s51x0s4cbdyv3sm0000gn/T/ipykernel_67871/2021628747.py:1: FutureWarning: Indexing with multiple keys (implicitly converted to a tuple of keys) will be deprecated, use a list instead.\n",
      "  display(balanced.groupby('subject')['num_word', 'avg_len_word'].mean().round(0).astype('int'))\n"
     ]
    },
    {
     "data": {
      "text/plain": "            num_word  avg_len_word\nsubject                           \neconomy           14             6\nhealth            15             7\npolitics          13             7\nsport             14             7\ntechnology        13             6",
      "text/html": "<div>\n<style scoped>\n    .dataframe tbody tr th:only-of-type {\n        vertical-align: middle;\n    }\n\n    .dataframe tbody tr th {\n        vertical-align: top;\n    }\n\n    .dataframe thead th {\n        text-align: right;\n    }\n</style>\n<table border=\"1\" class=\"dataframe\">\n  <thead>\n    <tr style=\"text-align: right;\">\n      <th></th>\n      <th>num_word</th>\n      <th>avg_len_word</th>\n    </tr>\n    <tr>\n      <th>subject</th>\n      <th></th>\n      <th></th>\n    </tr>\n  </thead>\n  <tbody>\n    <tr>\n      <th>economy</th>\n      <td>14</td>\n      <td>6</td>\n    </tr>\n    <tr>\n      <th>health</th>\n      <td>15</td>\n      <td>7</td>\n    </tr>\n    <tr>\n      <th>politics</th>\n      <td>13</td>\n      <td>7</td>\n    </tr>\n    <tr>\n      <th>sport</th>\n      <td>14</td>\n      <td>7</td>\n    </tr>\n    <tr>\n      <th>technology</th>\n      <td>13</td>\n      <td>6</td>\n    </tr>\n  </tbody>\n</table>\n</div>"
     },
     "metadata": {},
     "output_type": "display_data"
    }
   ],
   "source": [
    "display(balanced.groupby('subject')['num_word', 'avg_len_word'].mean().round(0).astype('int'))"
   ],
   "metadata": {
    "collapsed": false
   }
  },
  {
   "cell_type": "code",
   "execution_count": 55,
   "outputs": [
    {
     "name": "stderr",
     "output_type": "stream",
     "text": [
      "/var/folders/4c/qbks93tj3s51x0s4cbdyv3sm0000gn/T/ipykernel_67871/2016214900.py:1: ParserWarning: Falling back to the 'python' engine because the 'c' engine does not support regex separators (separators > 1 char and different from '\\s+' are interpreted as regex); you can avoid this warning by specifying engine='python'.\n",
      "  education = pd.read_csv('Non-Ironic Data/ts_dataset/education_86464_lines.txt', delimiter='\\\\n',on_bad_lines='skip', names=['title'])\n",
      "/var/folders/4c/qbks93tj3s51x0s4cbdyv3sm0000gn/T/ipykernel_67871/2016214900.py:2: FutureWarning: In a future version of pandas all arguments of StringMethods.split except for the argument 'pat' will be keyword-only.\n",
      "  education[['subject', 'title']] = education['title'].str.split(' ', 1, expand=True)\n"
     ]
    },
    {
     "data": {
      "text/plain": "                                                   title    subject  num_word  \\\n0      DİHABER'de yer alan habere göre, Ankara Üniver...  education        45   \n1      Söyleşide 15 Temmuz darbe girişimi hakkında ko...  education        39   \n2      Hakkında soruşturma açılan İletişim Fakültesi ...  education        42   \n3      E.Ç., 15 Temmuz sonrası CNN Türk’ün hükümet ta...  education        30   \n4      Hakkında soruşturma açılan bir başka öğrenci Ş...  education        33   \n...                                                  ...        ...       ...   \n86459  Belediye Başkanı Hilmi Türkmen ve fuarın onur ...  education        21   \n86460  ne teşekkür ederek başladı. Türkiye'nin 15 yıl...  education        43   \n86461  Rasim Özdenören'in \"onur konuğu\" olmasının ayr...  education        29   \n86462  Törende Üsküdar Belediye Başkanı Hilmi Türkmen...  education        20   \n86463  Bağlarbaşı Kültür ve Kongre Merkezinde 100 yay...  education        22   \n\n       avg_len_word  \n0                 6  \n1                 6  \n2                 7  \n3                 7  \n4                 6  \n...             ...  \n86459             6  \n86460             7  \n86461             8  \n86462             6  \n86463             6  \n\n[86464 rows x 4 columns]",
      "text/html": "<div>\n<style scoped>\n    .dataframe tbody tr th:only-of-type {\n        vertical-align: middle;\n    }\n\n    .dataframe tbody tr th {\n        vertical-align: top;\n    }\n\n    .dataframe thead th {\n        text-align: right;\n    }\n</style>\n<table border=\"1\" class=\"dataframe\">\n  <thead>\n    <tr style=\"text-align: right;\">\n      <th></th>\n      <th>title</th>\n      <th>subject</th>\n      <th>num_word</th>\n      <th>avg_len_word</th>\n    </tr>\n  </thead>\n  <tbody>\n    <tr>\n      <th>0</th>\n      <td>DİHABER'de yer alan habere göre, Ankara Üniver...</td>\n      <td>education</td>\n      <td>45</td>\n      <td>6</td>\n    </tr>\n    <tr>\n      <th>1</th>\n      <td>Söyleşide 15 Temmuz darbe girişimi hakkında ko...</td>\n      <td>education</td>\n      <td>39</td>\n      <td>6</td>\n    </tr>\n    <tr>\n      <th>2</th>\n      <td>Hakkında soruşturma açılan İletişim Fakültesi ...</td>\n      <td>education</td>\n      <td>42</td>\n      <td>7</td>\n    </tr>\n    <tr>\n      <th>3</th>\n      <td>E.Ç., 15 Temmuz sonrası CNN Türk’ün hükümet ta...</td>\n      <td>education</td>\n      <td>30</td>\n      <td>7</td>\n    </tr>\n    <tr>\n      <th>4</th>\n      <td>Hakkında soruşturma açılan bir başka öğrenci Ş...</td>\n      <td>education</td>\n      <td>33</td>\n      <td>6</td>\n    </tr>\n    <tr>\n      <th>...</th>\n      <td>...</td>\n      <td>...</td>\n      <td>...</td>\n      <td>...</td>\n    </tr>\n    <tr>\n      <th>86459</th>\n      <td>Belediye Başkanı Hilmi Türkmen ve fuarın onur ...</td>\n      <td>education</td>\n      <td>21</td>\n      <td>6</td>\n    </tr>\n    <tr>\n      <th>86460</th>\n      <td>ne teşekkür ederek başladı. Türkiye'nin 15 yıl...</td>\n      <td>education</td>\n      <td>43</td>\n      <td>7</td>\n    </tr>\n    <tr>\n      <th>86461</th>\n      <td>Rasim Özdenören'in \"onur konuğu\" olmasının ayr...</td>\n      <td>education</td>\n      <td>29</td>\n      <td>8</td>\n    </tr>\n    <tr>\n      <th>86462</th>\n      <td>Törende Üsküdar Belediye Başkanı Hilmi Türkmen...</td>\n      <td>education</td>\n      <td>20</td>\n      <td>6</td>\n    </tr>\n    <tr>\n      <th>86463</th>\n      <td>Bağlarbaşı Kültür ve Kongre Merkezinde 100 yay...</td>\n      <td>education</td>\n      <td>22</td>\n      <td>6</td>\n    </tr>\n  </tbody>\n</table>\n<p>86464 rows × 4 columns</p>\n</div>"
     },
     "metadata": {},
     "output_type": "display_data"
    }
   ],
   "source": [
    "education = pd.read_csv('Non-Ironic Data/ts_dataset/education_86464_lines.txt', delimiter='\\\\n',on_bad_lines='skip', names=['title'])\n",
    "education[['subject', 'title']] = education['title'].str.split(' ', 1, expand=True)\n",
    "education['subject'] = 'education'\n",
    "education[['num_word', 'avg_len_word']] = education.apply(lambda x: word_counter(x.title), axis=1, result_type='expand')\n",
    "education['title'] = education.apply(lambda x: re.sub(' ', ' ', x.title), axis=1)\n",
    "display(education)"
   ],
   "metadata": {
    "collapsed": false
   }
  },
  {
   "cell_type": "code",
   "execution_count": 57,
   "outputs": [
    {
     "data": {
      "text/plain": "                                                   title    subject  num_word  \\\n25     15 Temmuz darbe girişimi sonrasında 2 bin 249 ...  education        16   \n64     Ankete katılan velilerin % 85’i Milli Eğitim B...  education        13   \n69     Nöbetlerle ilgili bir maddede yer alan “bayan ...  education        14   \n89     MEF Üniversitesi Rektör Yardımcısı Prof. Dr. E...  education        13   \n94     Fen okuryazarı olmayan öğrenci oranımız, sınav...  education        12   \n...                                                  ...        ...       ...   \n86199  derecesine sahip yani bu derecelerle mezun ola...  education        12   \n86219  görevini yerine getirmekte olan er/erbaşlar il...  education        12   \n86234  Türk vatandaşlığından izin ile ayrılanlar ve b...  education        12   \n86237  derecesine sahip yani bu derecelerle mezun ola...  education        12   \n86458  Fuarı üçüncü defa okurlara kapılarını açtı. Fu...  education        14   \n\n       avg_len_word  \n25                6  \n64                7  \n69                6  \n89                6  \n94                7  \n...             ...  \n86199             6  \n86219             6  \n86234             7  \n86237             6  \n86458             5  \n\n[6734 rows x 4 columns]",
      "text/html": "<div>\n<style scoped>\n    .dataframe tbody tr th:only-of-type {\n        vertical-align: middle;\n    }\n\n    .dataframe tbody tr th {\n        vertical-align: top;\n    }\n\n    .dataframe thead th {\n        text-align: right;\n    }\n</style>\n<table border=\"1\" class=\"dataframe\">\n  <thead>\n    <tr style=\"text-align: right;\">\n      <th></th>\n      <th>title</th>\n      <th>subject</th>\n      <th>num_word</th>\n      <th>avg_len_word</th>\n    </tr>\n  </thead>\n  <tbody>\n    <tr>\n      <th>25</th>\n      <td>15 Temmuz darbe girişimi sonrasında 2 bin 249 ...</td>\n      <td>education</td>\n      <td>16</td>\n      <td>6</td>\n    </tr>\n    <tr>\n      <th>64</th>\n      <td>Ankete katılan velilerin % 85’i Milli Eğitim B...</td>\n      <td>education</td>\n      <td>13</td>\n      <td>7</td>\n    </tr>\n    <tr>\n      <th>69</th>\n      <td>Nöbetlerle ilgili bir maddede yer alan “bayan ...</td>\n      <td>education</td>\n      <td>14</td>\n      <td>6</td>\n    </tr>\n    <tr>\n      <th>89</th>\n      <td>MEF Üniversitesi Rektör Yardımcısı Prof. Dr. E...</td>\n      <td>education</td>\n      <td>13</td>\n      <td>6</td>\n    </tr>\n    <tr>\n      <th>94</th>\n      <td>Fen okuryazarı olmayan öğrenci oranımız, sınav...</td>\n      <td>education</td>\n      <td>12</td>\n      <td>7</td>\n    </tr>\n    <tr>\n      <th>...</th>\n      <td>...</td>\n      <td>...</td>\n      <td>...</td>\n      <td>...</td>\n    </tr>\n    <tr>\n      <th>86199</th>\n      <td>derecesine sahip yani bu derecelerle mezun ola...</td>\n      <td>education</td>\n      <td>12</td>\n      <td>6</td>\n    </tr>\n    <tr>\n      <th>86219</th>\n      <td>görevini yerine getirmekte olan er/erbaşlar il...</td>\n      <td>education</td>\n      <td>12</td>\n      <td>6</td>\n    </tr>\n    <tr>\n      <th>86234</th>\n      <td>Türk vatandaşlığından izin ile ayrılanlar ve b...</td>\n      <td>education</td>\n      <td>12</td>\n      <td>7</td>\n    </tr>\n    <tr>\n      <th>86237</th>\n      <td>derecesine sahip yani bu derecelerle mezun ola...</td>\n      <td>education</td>\n      <td>12</td>\n      <td>6</td>\n    </tr>\n    <tr>\n      <th>86458</th>\n      <td>Fuarı üçüncü defa okurlara kapılarını açtı. Fu...</td>\n      <td>education</td>\n      <td>14</td>\n      <td>5</td>\n    </tr>\n  </tbody>\n</table>\n<p>6734 rows × 4 columns</p>\n</div>"
     },
     "metadata": {},
     "output_type": "display_data"
    }
   ],
   "source": [
    "education = education[(education['num_word'] > 11) & (education['num_word'] < 17) & (education['avg_len_word'] >=5) & (education['avg_len_word'] <=7)]\n",
    "display(education)"
   ],
   "metadata": {
    "collapsed": false
   }
  },
  {
   "cell_type": "code",
   "execution_count": 59,
   "outputs": [],
   "source": [
    "balanced = pd.concat([balanced, education[:235]])"
   ],
   "metadata": {
    "collapsed": false
   }
  },
  {
   "cell_type": "code",
   "execution_count": 60,
   "outputs": [
    {
     "name": "stderr",
     "output_type": "stream",
     "text": [
      "/var/folders/4c/qbks93tj3s51x0s4cbdyv3sm0000gn/T/ipykernel_67871/3194037574.py:1: ParserWarning: Falling back to the 'python' engine because the 'c' engine does not support regex separators (separators > 1 char and different from '\\s+' are interpreted as regex); you can avoid this warning by specifying engine='python'.\n",
      "  politics = pd.read_csv('Non-Ironic Data/ts_dataset/politics_737166_lines.txt', delimiter='\\\\n',on_bad_lines='skip', names=['title'])\n",
      "/var/folders/4c/qbks93tj3s51x0s4cbdyv3sm0000gn/T/ipykernel_67871/3194037574.py:2: FutureWarning: In a future version of pandas all arguments of StringMethods.split except for the argument 'pat' will be keyword-only.\n",
      "  politics[['subject','title']] = politics['title'].str.split(' ',1,expand=True)\n"
     ]
    },
    {
     "data": {
      "text/plain": "                                                    title   subject  num_word  \\\n0       AKP, TBMM Genel Kurulu’nda oylamalar sırasında...  politics        46   \n1       TBMM Anayasa Komisyonu’nda, dün anayasa öneris...  politics        94   \n2       AKP’nin yeterlilik önergelerini vermeden önce,...  politics        60   \n3       CHP Grup Başkanvekili Levent Gök, oturumu yöne...  politics        46   \n4       CHP’li Gök, dayatılan anayasa önerisi hakkında...  politics        61   \n...                                                   ...       ...       ...   \n737161  5.Ülkemize ciddi manada silah girişleri hangi ...  politics        10   \n737162  6.Ülkemize terör örgütleri tarafından sokulan ...  politics         9   \n737163  7.Çözüm süreci başlangıcından itibaren terör ö...  politics        13   \n737164  8.Çözüm sürecinde terör örgütleri tarafından ü...  politics        16   \n737165  9.Cumhurbaşkanı Erdoğan'ın ifade ettiği, sınır...  politics        24   \n\n        avg_len_word  \n0                  8  \n1                  6  \n2                  7  \n3                  6  \n4                  7  \n...              ...  \n737161             7  \n737162             7  \n737163             7  \n737164             7  \n737165             7  \n\n[737166 rows x 4 columns]",
      "text/html": "<div>\n<style scoped>\n    .dataframe tbody tr th:only-of-type {\n        vertical-align: middle;\n    }\n\n    .dataframe tbody tr th {\n        vertical-align: top;\n    }\n\n    .dataframe thead th {\n        text-align: right;\n    }\n</style>\n<table border=\"1\" class=\"dataframe\">\n  <thead>\n    <tr style=\"text-align: right;\">\n      <th></th>\n      <th>title</th>\n      <th>subject</th>\n      <th>num_word</th>\n      <th>avg_len_word</th>\n    </tr>\n  </thead>\n  <tbody>\n    <tr>\n      <th>0</th>\n      <td>AKP, TBMM Genel Kurulu’nda oylamalar sırasında...</td>\n      <td>politics</td>\n      <td>46</td>\n      <td>8</td>\n    </tr>\n    <tr>\n      <th>1</th>\n      <td>TBMM Anayasa Komisyonu’nda, dün anayasa öneris...</td>\n      <td>politics</td>\n      <td>94</td>\n      <td>6</td>\n    </tr>\n    <tr>\n      <th>2</th>\n      <td>AKP’nin yeterlilik önergelerini vermeden önce,...</td>\n      <td>politics</td>\n      <td>60</td>\n      <td>7</td>\n    </tr>\n    <tr>\n      <th>3</th>\n      <td>CHP Grup Başkanvekili Levent Gök, oturumu yöne...</td>\n      <td>politics</td>\n      <td>46</td>\n      <td>6</td>\n    </tr>\n    <tr>\n      <th>4</th>\n      <td>CHP’li Gök, dayatılan anayasa önerisi hakkında...</td>\n      <td>politics</td>\n      <td>61</td>\n      <td>7</td>\n    </tr>\n    <tr>\n      <th>...</th>\n      <td>...</td>\n      <td>...</td>\n      <td>...</td>\n      <td>...</td>\n    </tr>\n    <tr>\n      <th>737161</th>\n      <td>5.Ülkemize ciddi manada silah girişleri hangi ...</td>\n      <td>politics</td>\n      <td>10</td>\n      <td>7</td>\n    </tr>\n    <tr>\n      <th>737162</th>\n      <td>6.Ülkemize terör örgütleri tarafından sokulan ...</td>\n      <td>politics</td>\n      <td>9</td>\n      <td>7</td>\n    </tr>\n    <tr>\n      <th>737163</th>\n      <td>7.Çözüm süreci başlangıcından itibaren terör ö...</td>\n      <td>politics</td>\n      <td>13</td>\n      <td>7</td>\n    </tr>\n    <tr>\n      <th>737164</th>\n      <td>8.Çözüm sürecinde terör örgütleri tarafından ü...</td>\n      <td>politics</td>\n      <td>16</td>\n      <td>7</td>\n    </tr>\n    <tr>\n      <th>737165</th>\n      <td>9.Cumhurbaşkanı Erdoğan'ın ifade ettiği, sınır...</td>\n      <td>politics</td>\n      <td>24</td>\n      <td>7</td>\n    </tr>\n  </tbody>\n</table>\n<p>737166 rows × 4 columns</p>\n</div>"
     },
     "metadata": {},
     "output_type": "display_data"
    }
   ],
   "source": [
    "politics = pd.read_csv('Non-Ironic Data/ts_dataset/politics_737166_lines.txt', delimiter='\\\\n',on_bad_lines='skip', names=['title'])\n",
    "politics[['subject','title']] = politics['title'].str.split(' ',1,expand=True)\n",
    "politics['subject'] = 'politics'\n",
    "politics[['num_word','avg_len_word']] =politics.apply(lambda x: word_counter(x.title), axis=1, result_type='expand')\n",
    "politics['title'] = politics.apply(lambda x: re.sub(' ', ' ',x.title), axis=1)\n",
    "display(politics)"
   ],
   "metadata": {
    "collapsed": false
   }
  },
  {
   "cell_type": "code",
   "execution_count": 65,
   "outputs": [
    {
     "name": "stderr",
     "output_type": "stream",
     "text": [
      "/var/folders/4c/qbks93tj3s51x0s4cbdyv3sm0000gn/T/ipykernel_67871/2922137211.py:2: FutureWarning: Indexing with multiple keys (implicitly converted to a tuple of keys) will be deprecated, use a list instead.\n",
      "  display(miss_pol[200:948].groupby('subject')['num_word', 'avg_len_word'].mean().round(0).astype('int'))\n"
     ]
    },
    {
     "data": {
      "text/plain": "          num_word  avg_len_word\nsubject                         \npolitics        13             7",
      "text/html": "<div>\n<style scoped>\n    .dataframe tbody tr th:only-of-type {\n        vertical-align: middle;\n    }\n\n    .dataframe tbody tr th {\n        vertical-align: top;\n    }\n\n    .dataframe thead th {\n        text-align: right;\n    }\n</style>\n<table border=\"1\" class=\"dataframe\">\n  <thead>\n    <tr style=\"text-align: right;\">\n      <th></th>\n      <th>num_word</th>\n      <th>avg_len_word</th>\n    </tr>\n    <tr>\n      <th>subject</th>\n      <th></th>\n      <th></th>\n    </tr>\n  </thead>\n  <tbody>\n    <tr>\n      <th>politics</th>\n      <td>13</td>\n      <td>7</td>\n    </tr>\n  </tbody>\n</table>\n</div>"
     },
     "metadata": {},
     "output_type": "display_data"
    }
   ],
   "source": [
    "miss_pol = politics[(politics['num_word']>9) & (politics['num_word']<17) & (politics['avg_len_word']==7)]\n",
    "display(miss_pol[200:948].groupby('subject')['num_word', 'avg_len_word'].mean().round(0).astype('int'))"
   ],
   "metadata": {
    "collapsed": false
   }
  },
  {
   "cell_type": "code",
   "execution_count": 66,
   "outputs": [],
   "source": [
    "balanced = pd.concat([balanced, miss_pol[200:948]])"
   ],
   "metadata": {
    "collapsed": false
   }
  },
  {
   "cell_type": "markdown",
   "source": [
    "### Compare Balanced Dataset"
   ],
   "metadata": {
    "collapsed": false
   }
  },
  {
   "cell_type": "code",
   "execution_count": 67,
   "outputs": [
    {
     "name": "stderr",
     "output_type": "stream",
     "text": [
      "/var/folders/4c/qbks93tj3s51x0s4cbdyv3sm0000gn/T/ipykernel_67871/2409381062.py:1: FutureWarning: Indexing with multiple keys (implicitly converted to a tuple of keys) will be deprecated, use a list instead.\n",
      "  display(balanced.groupby('subject')['num_word', 'avg_len_word'].mean().round(0).astype('int'))\n"
     ]
    },
    {
     "data": {
      "text/plain": "            num_word  avg_len_word\nsubject                           \neconomy           14             6\neducation         14             6\nhealth            15             7\npolitics          13             7\nsport             14             7\ntechnology        13             6",
      "text/html": "<div>\n<style scoped>\n    .dataframe tbody tr th:only-of-type {\n        vertical-align: middle;\n    }\n\n    .dataframe tbody tr th {\n        vertical-align: top;\n    }\n\n    .dataframe thead th {\n        text-align: right;\n    }\n</style>\n<table border=\"1\" class=\"dataframe\">\n  <thead>\n    <tr style=\"text-align: right;\">\n      <th></th>\n      <th>num_word</th>\n      <th>avg_len_word</th>\n    </tr>\n    <tr>\n      <th>subject</th>\n      <th></th>\n      <th></th>\n    </tr>\n  </thead>\n  <tbody>\n    <tr>\n      <th>economy</th>\n      <td>14</td>\n      <td>6</td>\n    </tr>\n    <tr>\n      <th>education</th>\n      <td>14</td>\n      <td>6</td>\n    </tr>\n    <tr>\n      <th>health</th>\n      <td>15</td>\n      <td>7</td>\n    </tr>\n    <tr>\n      <th>politics</th>\n      <td>13</td>\n      <td>7</td>\n    </tr>\n    <tr>\n      <th>sport</th>\n      <td>14</td>\n      <td>7</td>\n    </tr>\n    <tr>\n      <th>technology</th>\n      <td>13</td>\n      <td>6</td>\n    </tr>\n  </tbody>\n</table>\n</div>"
     },
     "metadata": {},
     "output_type": "display_data"
    }
   ],
   "source": [
    "display(balanced.groupby('subject')['num_word', 'avg_len_word'].mean().round(0).astype('int'))"
   ],
   "metadata": {
    "collapsed": false
   }
  },
  {
   "cell_type": "code",
   "execution_count": 69,
   "outputs": [
    {
     "name": "stderr",
     "output_type": "stream",
     "text": [
      "/var/folders/4c/qbks93tj3s51x0s4cbdyv3sm0000gn/T/ipykernel_67871/788685822.py:1: FutureWarning: Indexing with multiple keys (implicitly converted to a tuple of keys) will be deprecated, use a list instead.\n",
      "  display(df_ironic.groupby('subject')['num_word', 'avg_len_word'].mean().round(0).astype('int'))\n"
     ]
    },
    {
     "data": {
      "text/plain": "            num_word  avg_len_word\nsubject                           \neconomy           15             6\neducation         14             6\nhealth            14             7\npolitics          13             7\nsport             13             6\ntechnology        13             6\nworld             15             7",
      "text/html": "<div>\n<style scoped>\n    .dataframe tbody tr th:only-of-type {\n        vertical-align: middle;\n    }\n\n    .dataframe tbody tr th {\n        vertical-align: top;\n    }\n\n    .dataframe thead th {\n        text-align: right;\n    }\n</style>\n<table border=\"1\" class=\"dataframe\">\n  <thead>\n    <tr style=\"text-align: right;\">\n      <th></th>\n      <th>num_word</th>\n      <th>avg_len_word</th>\n    </tr>\n    <tr>\n      <th>subject</th>\n      <th></th>\n      <th></th>\n    </tr>\n  </thead>\n  <tbody>\n    <tr>\n      <th>economy</th>\n      <td>15</td>\n      <td>6</td>\n    </tr>\n    <tr>\n      <th>education</th>\n      <td>14</td>\n      <td>6</td>\n    </tr>\n    <tr>\n      <th>health</th>\n      <td>14</td>\n      <td>7</td>\n    </tr>\n    <tr>\n      <th>politics</th>\n      <td>13</td>\n      <td>7</td>\n    </tr>\n    <tr>\n      <th>sport</th>\n      <td>13</td>\n      <td>6</td>\n    </tr>\n    <tr>\n      <th>technology</th>\n      <td>13</td>\n      <td>6</td>\n    </tr>\n    <tr>\n      <th>world</th>\n      <td>15</td>\n      <td>7</td>\n    </tr>\n  </tbody>\n</table>\n</div>"
     },
     "metadata": {},
     "output_type": "display_data"
    }
   ],
   "source": [
    "display(df_ironic.groupby('subject')['num_word', 'avg_len_word'].mean().round(0).astype('int'))"
   ],
   "metadata": {
    "collapsed": false
   }
  },
  {
   "cell_type": "code",
   "execution_count": 70,
   "outputs": [
    {
     "data": {
      "text/plain": "subject\neconomy        748\neducation      235\nhealth         212\npolitics      1348\nsport          280\ntechnology     348\nName: subject, dtype: int64"
     },
     "metadata": {},
     "output_type": "display_data"
    }
   ],
   "source": [
    "display(balanced.groupby('subject')['subject'].count())"
   ],
   "metadata": {
    "collapsed": false
   }
  },
  {
   "cell_type": "code",
   "execution_count": 71,
   "outputs": [
    {
     "data": {
      "text/plain": "subject\neconomy        748\neducation      235\nhealth         212\npolitics      1348\nsport          280\ntechnology     348\nworld          361\nName: subject, dtype: int64"
     },
     "metadata": {},
     "output_type": "display_data"
    }
   ],
   "source": [
    "display(df_ironic.groupby('subject')['subject'].count())"
   ],
   "metadata": {
    "collapsed": false
   }
  },
  {
   "cell_type": "code",
   "execution_count": 72,
   "outputs": [],
   "source": [
    "balanced['label'] = 0\n",
    "df_ironic['label'] = 1"
   ],
   "metadata": {
    "collapsed": false
   }
  },
  {
   "cell_type": "code",
   "execution_count": 73,
   "outputs": [],
   "source": [
    "balanced.to_excel('non_ironic_detailed_17-05.xlsx', index=False)"
   ],
   "metadata": {
    "collapsed": false
   }
  },
  {
   "cell_type": "code",
   "execution_count": 74,
   "outputs": [],
   "source": [
    "df_ironic.to_excel('ironic_detailed_17-05.xlsx', index=False)"
   ],
   "metadata": {
    "collapsed": false
   }
  },
  {
   "cell_type": "code",
   "execution_count": 75,
   "outputs": [],
   "source": [
    "m1=balanced[['title','label']]\n",
    "m2=df_ironic[['title','label']][df_ironic['subject']!='world']"
   ],
   "metadata": {
    "collapsed": false
   }
  },
  {
   "cell_type": "code",
   "execution_count": 76,
   "outputs": [],
   "source": [
    "df_merged = pd.DataFrame()"
   ],
   "metadata": {
    "collapsed": false
   }
  },
  {
   "cell_type": "code",
   "execution_count": 77,
   "outputs": [
    {
     "data": {
      "text/plain": "                                                  title  label\n3000  Akıllı telefon bağımlılığı son dönemde dünya ç...      0\n3004  Küresel akıllı telefon satışları beklentilerin...      0\n3005  Apple uygun fiyatlı bir iPad modeli geliştiriyor!      0\n3006  Tesla dünyanın en büyük lityum iyon pilini çal...      0\n3008  Drone ile sipariş teslimatı, özellikle Amazon ...      0\n...                                                 ...    ...\n3527  AKP’nin seçim şarkısı: Şehit olmaya geldik, çü...      1\n3528    Çekmeköy Belediyesi’nden Yolda Tarla Uygulaması      1\n3529   Çinli Bilim Adamları Aromanın da Aromasını Yaptı      1\n3530  Diyanet İşler Başkanlığı: Halkımızın %99’u Müs...      1\n3531         Başbakan Davutoğlu: “Kürt Sorununu Çözdük”      1\n\n[6342 rows x 2 columns]",
      "text/html": "<div>\n<style scoped>\n    .dataframe tbody tr th:only-of-type {\n        vertical-align: middle;\n    }\n\n    .dataframe tbody tr th {\n        vertical-align: top;\n    }\n\n    .dataframe thead th {\n        text-align: right;\n    }\n</style>\n<table border=\"1\" class=\"dataframe\">\n  <thead>\n    <tr style=\"text-align: right;\">\n      <th></th>\n      <th>title</th>\n      <th>label</th>\n    </tr>\n  </thead>\n  <tbody>\n    <tr>\n      <th>3000</th>\n      <td>Akıllı telefon bağımlılığı son dönemde dünya ç...</td>\n      <td>0</td>\n    </tr>\n    <tr>\n      <th>3004</th>\n      <td>Küresel akıllı telefon satışları beklentilerin...</td>\n      <td>0</td>\n    </tr>\n    <tr>\n      <th>3005</th>\n      <td>Apple uygun fiyatlı bir iPad modeli geliştiriyor!</td>\n      <td>0</td>\n    </tr>\n    <tr>\n      <th>3006</th>\n      <td>Tesla dünyanın en büyük lityum iyon pilini çal...</td>\n      <td>0</td>\n    </tr>\n    <tr>\n      <th>3008</th>\n      <td>Drone ile sipariş teslimatı, özellikle Amazon ...</td>\n      <td>0</td>\n    </tr>\n    <tr>\n      <th>...</th>\n      <td>...</td>\n      <td>...</td>\n    </tr>\n    <tr>\n      <th>3527</th>\n      <td>AKP’nin seçim şarkısı: Şehit olmaya geldik, çü...</td>\n      <td>1</td>\n    </tr>\n    <tr>\n      <th>3528</th>\n      <td>Çekmeköy Belediyesi’nden Yolda Tarla Uygulaması</td>\n      <td>1</td>\n    </tr>\n    <tr>\n      <th>3529</th>\n      <td>Çinli Bilim Adamları Aromanın da Aromasını Yaptı</td>\n      <td>1</td>\n    </tr>\n    <tr>\n      <th>3530</th>\n      <td>Diyanet İşler Başkanlığı: Halkımızın %99’u Müs...</td>\n      <td>1</td>\n    </tr>\n    <tr>\n      <th>3531</th>\n      <td>Başbakan Davutoğlu: “Kürt Sorununu Çözdük”</td>\n      <td>1</td>\n    </tr>\n  </tbody>\n</table>\n<p>6342 rows × 2 columns</p>\n</div>"
     },
     "metadata": {},
     "output_type": "display_data"
    }
   ],
   "source": [
    "df_merged = pd.concat([m1,m2])\n",
    "display(df_merged)"
   ],
   "metadata": {
    "collapsed": false
   }
  },
  {
   "cell_type": "code",
   "execution_count": 78,
   "outputs": [],
   "source": [
    "df_merged.to_excel('labeled_newdata_17-05.xlsx', index=False)"
   ],
   "metadata": {
    "collapsed": false
   }
  }
 ],
 "metadata": {
  "kernelspec": {
   "display_name": "Python 3",
   "language": "python",
   "name": "python3"
  },
  "language_info": {
   "codemirror_mode": {
    "name": "ipython",
    "version": 2
   },
   "file_extension": ".py",
   "mimetype": "text/x-python",
   "name": "python",
   "nbconvert_exporter": "python",
   "pygments_lexer": "ipython2",
   "version": "2.7.6"
  }
 },
 "nbformat": 4,
 "nbformat_minor": 0
}
